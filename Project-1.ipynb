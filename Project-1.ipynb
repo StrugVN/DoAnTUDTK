{
 "cells": [
  {
   "cell_type": "code",
   "execution_count": 1,
   "metadata": {},
   "outputs": [],
   "source": [
    "import pandas as pd\n",
    "import numpy as np \n",
    "from sklearn import datasets, linear_model, metrics \n",
    "from sklearn.model_selection import train_test_split"
   ]
  },
  {
   "cell_type": "code",
   "execution_count": 2,
   "metadata": {},
   "outputs": [],
   "source": [
    "def read_data(X_path, Y_path):\n",
    "    X = pd.read_csv(X_path, index_col='id')\n",
    "    Y = pd.read_csv(Y_path, index_col='id')\n",
    "    \n",
    "    return X, Y"
   ]
  },
  {
   "cell_type": "code",
   "execution_count": 3,
   "metadata": {},
   "outputs": [],
   "source": [
    "def train_model(X_train, Y_train):    \n",
    "    return linear_model.LinearRegression().fit(X_train, Y_train)"
   ]
  },
  {
   "cell_type": "code",
   "execution_count": 4,
   "metadata": {},
   "outputs": [],
   "source": [
    "def model_validation(model, X_train, X_test, Y_train, Y_test):\n",
    "    in_sample_prediction = model.predict(X_train)\n",
    "    mse = np.mean((Y_train.to_numpy() - in_sample_prediction)**2)\n",
    "    \n",
    "    print(\"In-sample match: \", model.score(X_train, Y_train)*100, \"%\")\n",
    "    print(\"In-sample mse: \", mse)\n",
    "    print(\"In-sample rmse: \", np.sqrt(mse))\n",
    "    print('---------------------------------------')\n",
    "    prediction = model.predict(X_test)\n",
    "    mse_out = np.mean((Y_test.to_numpy() - prediction)**2)\n",
    "    print(\"Out-sample match: \", model.score(X_test, Y_test)*100, \"%\")\n",
    "    print(\"Out-sample mse: \", mse_out)\n",
    "    print(\"Out-sample rmse: \",np.sqrt(mse_out))"
   ]
  },
  {
   "cell_type": "markdown",
   "metadata": {},
   "source": [
    "# Model 1"
   ]
  },
  {
   "cell_type": "markdown",
   "metadata": {},
   "source": [
    "### Đặc điểm model?"
   ]
  },
  {
   "cell_type": "code",
   "execution_count": 5,
   "metadata": {},
   "outputs": [],
   "source": [
    "X, Y = read_data(\"X_train.csv\", \"Y_train.csv\")"
   ]
  },
  {
   "cell_type": "code",
   "execution_count": 6,
   "metadata": {},
   "outputs": [],
   "source": [
    "def preprocess_data(X, Y): # Làm sao khi có file test riêng biết tạo bao nhiêu cột?\n",
    "    X_df = X[['odometer', 'year', 'engineCapacity', \n",
    "                'feature_0', 'feature_1', 'feature_2', \n",
    "                'feature_3', 'feature_4', 'feature_5', \n",
    "                'feature_6', 'feature_7', 'feature_8', 'feature_9']].copy()\n",
    "    \n",
    "    categorical_cols = ['manufacturer', 'transmission', 'color', 'bodyType', 'drivetrain', 'engineFuel']\n",
    "    for col in categorical_cols:\n",
    "        for val in X[col].unique():\n",
    "            X_df['is' + val] = (X[col] == val)\n",
    "            \n",
    "    X_df = X_df.astype(float)\n",
    "    \n",
    "    index = [i for i, row in X_df.iterrows() if row.isnull().any()]\n",
    "    Y_df = Y.drop(index)\n",
    "    X_df = X_df.dropna()\n",
    "    \n",
    "    return X_df, Y_df"
   ]
  },
  {
   "cell_type": "code",
   "execution_count": 7,
   "metadata": {},
   "outputs": [
    {
     "data": {
      "text/plain": [
       "((23992, 97), (23992, 1), (5999, 97), (5999, 1))"
      ]
     },
     "execution_count": 7,
     "metadata": {},
     "output_type": "execute_result"
    }
   ],
   "source": [
    "X_df, Y_df = preprocess_data(X, Y)\n",
    "\n",
    "# Không được tách mẫu bằng data đã xử lí\n",
    "# Tách rồi mới xử lí để biết có thể tự xử lí riêng test hay ko\n",
    "# Y_test cần drop cột nào khi X_test xử lí riêng có dropna?\n",
    "X_train, X_test, Y_train, Y_test = train_test_split(X_df, Y_df, test_size=0.2, random_state=0)\n",
    "\n",
    "X_train.shape, Y_train.shape, X_test.shape, Y_test.shape"
   ]
  },
  {
   "cell_type": "code",
   "execution_count": 8,
   "metadata": {},
   "outputs": [],
   "source": [
    "regressor_1 = train_model(X_train, Y_train)"
   ]
  },
  {
   "cell_type": "code",
   "execution_count": 9,
   "metadata": {},
   "outputs": [
    {
     "name": "stdout",
     "output_type": "stream",
     "text": [
      "In-sample match:  75.43855536366775 %\n",
      "In-sample mse:  9154609.666163972\n",
      "In-sample rmse:  3025.658550822279\n",
      "---------------------------------------\n",
      "Out-sample match:  75.8540408509474 %\n",
      "Out-sample mse:  8807896.382743344\n",
      "Out-sample rmse:  2967.8100314446247\n"
     ]
    }
   ],
   "source": [
    "model_validation(regressor_1, X_train, X_test, Y_train, Y_test)"
   ]
  },
  {
   "cell_type": "markdown",
   "metadata": {},
   "source": [
    "# Model 2"
   ]
  },
  {
   "cell_type": "markdown",
   "metadata": {},
   "source": [
    "### Model chỉ dùng các cột dữ liệu số làm tham số huấn luyện"
   ]
  },
  {
   "cell_type": "code",
   "execution_count": 10,
   "metadata": {},
   "outputs": [],
   "source": [
    "X, Y = read_data(\"X_train.csv\", \"Y_train.csv\")"
   ]
  },
  {
   "cell_type": "code",
   "execution_count": 11,
   "metadata": {},
   "outputs": [],
   "source": [
    "def model_2_training_process(X, Y):\n",
    "    X_train = X[['odometer', 'year', 'engineCapacity', 'feature_0', 'feature_1', 'feature_2', 'feature_3', 'feature_4', 'feature_5', 'feature_6', 'feature_7', 'feature_8', 'feature_9']].copy().astype(float)\n",
    "    X_train['x0'] = 1\n",
    "    X_train['year'] -= min(X['year'])\n",
    "    \n",
    "    index = [i for i, row in X_train.iterrows() if row.isnull().any()]\n",
    "    Y_train = Y.drop(index)\n",
    "    X_train = X_train.dropna()\n",
    "    \n",
    "    return X_train, Y_train\n",
    "\n",
    "def model_2_process(X):\n",
    "    X_train = X[['odometer', 'year', 'engineCapacity', 'feature_0', 'feature_1', 'feature_2', 'feature_3', 'feature_4', 'feature_5', 'feature_6', 'feature_7', 'feature_8', 'feature_9']].copy().astype(float)\n",
    "    X_train['x0'] = 1\n",
    "    X_train['year'] -= min(X['year'])\n",
    "    \n",
    "    drop_index = [i for i, row in X_train.iterrows() if row.isnull().any()]\n",
    "    X_train = X_train.dropna()\n",
    "    \n",
    "    return X_train, drop_index"
   ]
  },
  {
   "cell_type": "code",
   "execution_count": 12,
   "metadata": {},
   "outputs": [
    {
     "data": {
      "text/plain": [
       "((23994, 14), (23994, 1), (5997, 14), (5997, 1))"
      ]
     },
     "execution_count": 12,
     "metadata": {},
     "output_type": "execute_result"
    }
   ],
   "source": [
    "X_train, X_test, Y_train, Y_test = train_test_split(X, Y, test_size=0.2, random_state=0)\n",
    "\n",
    "X_train, Y_train = model_2_training_process(X_train, Y_train)\n",
    "\n",
    "X_test, drop_inx = model_2_process(X_test)\n",
    "Y_test = Y_test.drop(drop_inx)\n",
    "\n",
    "X_train.shape, Y_train.shape, X_test.shape, Y_test.shape"
   ]
  },
  {
   "cell_type": "code",
   "execution_count": 13,
   "metadata": {},
   "outputs": [],
   "source": [
    "regressor_2 = train_model(X_train, Y_train)"
   ]
  },
  {
   "cell_type": "code",
   "execution_count": 14,
   "metadata": {},
   "outputs": [
    {
     "name": "stdout",
     "output_type": "stream",
     "text": [
      "In-sample match:  67.63542428064184 %\n",
      "In-sample mse:  12032033.047601737\n",
      "In-sample rmse:  3468.7221058484547\n",
      "---------------------------------------\n",
      "Out-sample match:  67.4735839975811 %\n",
      "Out-sample mse:  11983445.001762254\n",
      "Out-sample rmse:  3461.7112822652116\n"
     ]
    }
   ],
   "source": [
    "model_validation(regressor_2, X_train, X_test, Y_train, Y_test)"
   ]
  },
  {
   "cell_type": "markdown",
   "metadata": {},
   "source": [
    "# Model 3"
   ]
  },
  {
   "cell_type": "markdown",
   "metadata": {},
   "source": [
    "### Tự tính weight cho nhãn\n",
    "$$ w_{Nhãn} = \\frac{Trung \\, Bình \\, Giá(Nhãn)}{Nhãn_{min} \\, trong \\, cột} $$"
   ]
  },
  {
   "cell_type": "code",
   "execution_count": 15,
   "metadata": {},
   "outputs": [],
   "source": [
    "import pickle\n",
    "import os.path"
   ]
  },
  {
   "cell_type": "code",
   "execution_count": 16,
   "metadata": {},
   "outputs": [],
   "source": [
    "def scale_nominal(X, Y, col):\n",
    "    label = X[col].unique()\n",
    "    scale = {key: 1e0 for key in label}\n",
    "    \n",
    "    for l in label:\n",
    "        ind = X.index[X[col] == l].to_list()\n",
    "        s = sum(Y.iloc[i-1]['price'] for i in ind)\n",
    "        scale[l] = s/len(ind)\n",
    "        \n",
    "    min_l = min(scale, key=scale.get)\n",
    "    base = scale[min_l]\n",
    "    \n",
    "    for key in scale.keys():\n",
    "        scale[key] /= base\n",
    "    return scale"
   ]
  },
  {
   "cell_type": "code",
   "execution_count": 17,
   "metadata": {},
   "outputs": [],
   "source": [
    "def calculate_nominal(X, save_to = None):\n",
    "    label_col = [\"manufacturer\",  \"model\",\"transmission\",\"color\",\"engineFuel\",\"engineType\",\"bodyType\",\"drivetrain\"]\n",
    "    \n",
    "    X_train = X.copy()\n",
    "    X_train = X_train.dropna()\n",
    "    \n",
    "    scale = {key: 1e0 for key in label_col}\n",
    "    for s in label_col:\n",
    "        scale[s] = scale_nominal(X_train, Y, s)\n",
    "        \n",
    "    if save_to != None:\n",
    "        output = open(save_to, 'wb')\n",
    "        pickle.dump(scale, output)\n",
    "        \n",
    "    return scale"
   ]
  },
  {
   "cell_type": "code",
   "execution_count": 18,
   "metadata": {},
   "outputs": [],
   "source": [
    "def model_self_labeled_process(X, scale):\n",
    "    X_train = X.copy()\n",
    "    X_train.drop([\"photos\"], axis=1)\n",
    "    index = [i for i, row in X_train.iterrows() if row.isnull().any()]\n",
    "\n",
    "    X_train = X_train.dropna()\n",
    "    X_train['year'] -= min(X['year'])\n",
    "    \n",
    "    label_col = [\"manufacturer\", \"model\",\"transmission\",\"color\",\"engineFuel\",\"engineType\",\"bodyType\",\"drivetrain\"]\n",
    "    \n",
    "    for s in label_col:\n",
    "        d = scale[s]\n",
    "        for key in d.keys():\n",
    "            X_train.replace(key, d[key], inplace=True)\n",
    "        for u in X_train[s].unique():\n",
    "            try:\n",
    "                float(u)\n",
    "            except ValueError:\n",
    "                # print(\"Droping \", u)\n",
    "                idx = X_train[ X_train[s] == u ].index\n",
    "                X_train.drop(idx , inplace=True)\n",
    "                index.append(idx)\n",
    "        \n",
    "    X_train.replace(True, 1, inplace=True)\n",
    "    X_train.replace(False, 0, inplace=True)\n",
    "    X_train['x0'] = 1\n",
    "    \n",
    "    X_train = X_train.astype(float)\n",
    "    \n",
    "    return X_train, index"
   ]
  },
  {
   "cell_type": "code",
   "execution_count": 19,
   "metadata": {},
   "outputs": [],
   "source": [
    "X, Y = read_data(\"X_train.csv\", \"Y_train.csv\")"
   ]
  },
  {
   "cell_type": "code",
   "execution_count": 20,
   "metadata": {},
   "outputs": [
    {
     "name": "stdout",
     "output_type": "stream",
     "text": [
      "Loaded scale\n"
     ]
    }
   ],
   "source": [
    "fname = \"model_scaling.pkl\"\n",
    "if not os.path.isfile(fname):    \n",
    "    scale = calculate_nominal(X, fname)\n",
    "    print(\"Saved scale\")\n",
    "else:\n",
    "    print(\"Loaded scale\")\n",
    "    scale = pickle.load(open(fname, 'rb'))"
   ]
  },
  {
   "cell_type": "code",
   "execution_count": 21,
   "metadata": {},
   "outputs": [
    {
     "data": {
      "text/plain": [
       "((24000, 22), (24000, 1), (6000, 22), (6000, 1))"
      ]
     },
     "execution_count": 21,
     "metadata": {},
     "output_type": "execute_result"
    }
   ],
   "source": [
    "X_train, X_test, Y_train, Y_test = train_test_split(X, Y, test_size=0.2, random_state=0)\n",
    "\n",
    "X_train.shape, Y_train.shape, X_test.shape, Y_test.shape"
   ]
  },
  {
   "cell_type": "code",
   "execution_count": 22,
   "metadata": {},
   "outputs": [
    {
     "data": {
      "text/plain": [
       "((23994, 23), (23994, 1))"
      ]
     },
     "execution_count": 22,
     "metadata": {},
     "output_type": "execute_result"
    }
   ],
   "source": [
    "X_train, drop_idx = model_self_labeled_process(X_train, scale)\n",
    "Y_train = Y_train.drop(drop_idx)\n",
    "\n",
    "X_train.shape, Y_train.shape"
   ]
  },
  {
   "cell_type": "code",
   "execution_count": 23,
   "metadata": {},
   "outputs": [],
   "source": [
    "regressor_3 = train_model(X_train, Y_train)"
   ]
  },
  {
   "cell_type": "code",
   "execution_count": 24,
   "metadata": {},
   "outputs": [
    {
     "data": {
      "text/plain": [
       "((5997, 23), (5997, 1))"
      ]
     },
     "execution_count": 24,
     "metadata": {},
     "output_type": "execute_result"
    }
   ],
   "source": [
    "X_test, drop_idx = model_self_labeled_process(X_test, scale)\n",
    "Y_test = Y_test.drop(drop_idx)\n",
    "\n",
    "X_test.shape, Y_test.shape"
   ]
  },
  {
   "cell_type": "code",
   "execution_count": 25,
   "metadata": {},
   "outputs": [
    {
     "name": "stdout",
     "output_type": "stream",
     "text": [
      "In-sample match:  77.66415806315936 %\n",
      "In-sample mse:  8303695.702994527\n",
      "In-sample rmse:  2881.613385413548\n",
      "---------------------------------------\n",
      "Out-sample match:  77.68226816774353 %\n",
      "Out-sample mse:  8222341.863795728\n",
      "Out-sample rmse:  2867.4626176806087\n"
     ]
    }
   ],
   "source": [
    "model_validation(regressor_3, X_train, X_test, Y_train, Y_test)"
   ]
  },
  {
   "cell_type": "markdown",
   "metadata": {},
   "source": [
    "# Model 4"
   ]
  },
  {
   "cell_type": "markdown",
   "metadata": {},
   "source": [
    "### Đặc điểm?"
   ]
  },
  {
   "cell_type": "code",
   "execution_count": 26,
   "metadata": {},
   "outputs": [],
   "source": [
    "X, Y = read_data(\"X_train.csv\", \"Y_train.csv\")"
   ]
  },
  {
   "cell_type": "code",
   "execution_count": 27,
   "metadata": {},
   "outputs": [],
   "source": [
    "from sklearn.pipeline import Pipeline\n",
    "from sklearn.impute import SimpleImputer\n",
    "from sklearn.preprocessing import StandardScaler\n",
    "from sklearn.preprocessing import PolynomialFeatures\n",
    "from sklearn.preprocessing import OrdinalEncoder\n",
    "from sklearn.preprocessing import OneHotEncoder\n",
    "from sklearn.compose import ColumnTransformer"
   ]
  },
  {
   "cell_type": "code",
   "execution_count": 28,
   "metadata": {},
   "outputs": [],
   "source": [
    "features = []\n",
    "for i in range(10):\n",
    "    feature = f'feature_{i}'\n",
    "    features.append(feature)\n",
    "nAn_features = [\"manufacturer\", \"transmission\", \"color\", \"engineFuel\", \"engineType\", \"bodyType\", \"drivetrain\"]\n",
    "nAn_features_all = nAn_features + features"
   ]
  },
  {
   "cell_type": "code",
   "execution_count": 29,
   "metadata": {},
   "outputs": [],
   "source": [
    "def transfrom_data(X, pipeline):\n",
    "    return pipeline.transform(X)"
   ]
  },
  {
   "cell_type": "code",
   "execution_count": 30,
   "metadata": {},
   "outputs": [
    {
     "name": "stdout",
     "output_type": "stream",
     "text": [
      "Loaded pipeline\n"
     ]
    }
   ],
   "source": [
    "fname = \"pipeline.pkl\"\n",
    "X_num = X[['odometer', 'year', 'engineCapacity']].astype(float)\n",
    "if not os.path.isfile(fname):\n",
    "    num_pipeline = Pipeline([\n",
    "        ('imputer', SimpleImputer(strategy=\"median\")),\n",
    "        ('poly_features', PolynomialFeatures(degree=3, include_bias=False)),\n",
    "        ('std_scaler', StandardScaler()),\n",
    "    ])\n",
    "\n",
    "    num_attribs = list(X_num)\n",
    "    cat_attribs = [n for n in nAn_features_all if n != 'engineType' and n not in features]\n",
    "    cat_attribs_binary = features\n",
    "\n",
    "    full_pipeline = ColumnTransformer([\n",
    "    (\"num\", num_pipeline, num_attribs),\n",
    "     (\"cat_binary\", OrdinalEncoder(), cat_attribs_binary),   \n",
    "    (\"cat\", OneHotEncoder(), cat_attribs),\n",
    "    ])\n",
    "    full_pipeline.fit(X)\n",
    "    pickle.dump(full_pipeline, open(fname, 'wb'))\n",
    "    print(\"Saved pipeline\")\n",
    "else:\n",
    "    full_pipeline = pickle.load(open(fname, 'rb'))\n",
    "    print(\"Loaded pipeline\")"
   ]
  },
  {
   "cell_type": "code",
   "execution_count": 31,
   "metadata": {},
   "outputs": [
    {
     "data": {
      "text/plain": [
       "((24000, 22), (24000, 1), (6000, 22), (6000, 1))"
      ]
     },
     "execution_count": 31,
     "metadata": {},
     "output_type": "execute_result"
    }
   ],
   "source": [
    "X_train, X_test, Y_train, Y_test = train_test_split(X, Y, test_size=0.2, random_state=0)\n",
    "\n",
    "X_train.shape, Y_train.shape, X_test.shape, Y_test.shape"
   ]
  },
  {
   "cell_type": "code",
   "execution_count": 32,
   "metadata": {},
   "outputs": [
    {
     "data": {
      "text/plain": [
       "(24000, 113)"
      ]
     },
     "execution_count": 32,
     "metadata": {},
     "output_type": "execute_result"
    }
   ],
   "source": [
    "X_prepared = transfrom_data(X_train, full_pipeline)\n",
    "X_prepared.shape"
   ]
  },
  {
   "cell_type": "code",
   "execution_count": 33,
   "metadata": {},
   "outputs": [],
   "source": [
    "regressor_4 = train_model(X_prepared, Y_train)"
   ]
  },
  {
   "cell_type": "code",
   "execution_count": 34,
   "metadata": {},
   "outputs": [
    {
     "name": "stdout",
     "output_type": "stream",
     "text": [
      "In-sample match:  86.6801100430009 %\n",
      "In-sample mse:  4953932.207964233\n",
      "In-sample rmse:  2225.7430687220467\n",
      "---------------------------------------\n",
      "Out-sample match:  87.00055743489553 %\n",
      "Out-sample mse:  4813671.81627385\n",
      "Out-sample rmse:  2194.008162307937\n"
     ]
    }
   ],
   "source": [
    "X_test_transform = transfrom_data(X_test, full_pipeline)\n",
    "\n",
    "model_validation(regressor_4, X_prepared, X_test_transform, Y_train, Y_test)"
   ]
  },
  {
   "cell_type": "code",
   "execution_count": null,
   "metadata": {},
   "outputs": [],
   "source": []
  }
 ],
 "metadata": {
  "kernelspec": {
   "display_name": "Python 3",
   "language": "python",
   "name": "python3"
  },
  "language_info": {
   "codemirror_mode": {
    "name": "ipython",
    "version": 3
   },
   "file_extension": ".py",
   "mimetype": "text/x-python",
   "name": "python",
   "nbconvert_exporter": "python",
   "pygments_lexer": "ipython3",
   "version": "3.7.4"
  }
 },
 "nbformat": 4,
 "nbformat_minor": 2
}
