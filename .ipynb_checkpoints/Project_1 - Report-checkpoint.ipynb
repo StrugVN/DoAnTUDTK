{
 "cells": [
  {
   "cell_type": "markdown",
   "metadata": {},
   "source": [
    "Lớp **Toán ứng dụng và thống kê - 17/11**  \n",
    "Học kì II, 2019 - 2020  "
   ]
  },
  {
   "cell_type": "markdown",
   "metadata": {},
   "source": [
    "<hr>"
   ]
  },
  {
   "cell_type": "markdown",
   "metadata": {},
   "source": [
    "<br>\n",
    "<center><b><font size=\"10\">ĐỒ ÁN 1</font></b></center>\n",
    "<br>"
   ]
  },
  {
   "cell_type": "markdown",
   "metadata": {},
   "source": [
    "<center>\n",
    "    <font size=\"4\"><b>Nhóm thực hiện:</b></font><br>\n",
    "    Trần Minh Trí - 1712834&emsp;Nguyễn Nhật Trường - 1712852<br>\n",
    "    Lê Trường Vĩ - 1712900&emsp;Nguyễn Hửu Trí - 1712832<br>\n",
    "</center>"
   ]
  },
  {
   "cell_type": "markdown",
   "metadata": {},
   "source": [
    "<hr>"
   ]
  },
  {
   "cell_type": "markdown",
   "metadata": {},
   "source": [
    "# I. Dữ liệu"
   ]
  },
  {
   "cell_type": "markdown",
   "metadata": {},
   "source": [
    "## 1. Dữ liệu chứa thông tin về xe (X)"
   ]
  },
  {
   "cell_type": "markdown",
   "metadata": {},
   "source": [
    "Dữ liệu gồm các thuộc tính sau:\n",
    "- `id`: Mã số định danh.\n",
    "- `manufacturer`: Tên nhà sản xuất xe hơi.\n",
    "- `model`: Tên mẫu xe.\n",
    "- `transmission`: Loại hộp số.\n",
    "- `color`: Màu xe.\n",
    "- `odometer`: Số km mà xe đã đi.\n",
    "- `year`: Năm sản xuất.\n",
    "- `engineFuel`: Loại nhiên liệu động cơ.\n",
    "- `engineType`: Loại động cơ.\n",
    "- `engineCapacity`: Dung tích động cơ tính bằng lít.\n",
    "- `bodyType`: Dạng thân xe.\n",
    "- `drivetrain`: Loại hệ thống dẫn động.\n",
    "- `photos`: Số lượng hình ảnh được chụp về xe.\n",
    "- `feature0`,... `feature9`: Các đặc trưng khác của xe."
   ]
  },
  {
   "cell_type": "markdown",
   "metadata": {},
   "source": [
    "## 2. Dữ liệu chứa giá mua bán xe (Y)"
   ]
  },
  {
   "cell_type": "markdown",
   "metadata": {},
   "source": [
    "Dữ liệu gồm các thuộc tính sau:\n",
    "- `id`: Mã số định danh\n",
    "- `price`: Giá xe tính theo USD."
   ]
  },
  {
   "cell_type": "markdown",
   "metadata": {},
   "source": [
    "## 3. Nhận xét dữ liệu"
   ]
  },
  {
   "cell_type": "markdown",
   "metadata": {},
   "source": [
    "Từ hai file dữ liệu **\"X_train.csv\"** và **\"Y_train.csv\"**, ta có thể rút ra những kết luận sau:\n",
    "- Hai cột `id` ở hai bảng đóng vai trò là index nên hoàn toàn không ảnh hưởng đến việc dự đoán.\n",
    "- Ở dữ liệu X:\n",
    "    + `manufacturer`, `model`, `transmission`, `color`, `engineFuel`, `engineType`, `bodyType`, `drivetrain` thuộc loại dữ liệu *categorical* cần được xử lý trước khi huấn luyện mô hình.\n",
    "    + Các cột còn lại thuộc loại *numerical*.\n"
   ]
  },
  {
   "cell_type": "markdown",
   "metadata": {},
   "source": [
    "# II. Xây dựng các mô hình hồi quy"
   ]
  },
  {
   "cell_type": "markdown",
   "metadata": {},
   "source": [
    "Quy tắc chung: Từ dữ liệu train được cho trước, các bước sau được thực hiện:\n",
    "- Chia mỗi tập dữ liệu ra thành 2 phần chính là “train” và “test” theo tỉ lệ 80/20.\n",
    "- Tiền xử lý dữ liệu (bước quyết định điểm khác biệt giữa các mô hình).\n",
    "- Huấn luyện mô hình.\n",
    "- Đánh giá mô hình theo các thông số chọn trước."
   ]
  },
  {
   "cell_type": "markdown",
   "metadata": {},
   "source": [
    "### Mục lục các model:\n",
    "* [Model 1](#model-1)\n",
    "* [Model 2](#model-2)\n",
    "* [Model 3](#model-3)\n",
    "* [Model 4](#model-4)\n",
    "* [Model 5](#model-5)"
   ]
  },
  {
   "cell_type": "markdown",
   "metadata": {},
   "source": [
    "#### Các thư viện cơ bản"
   ]
  },
  {
   "cell_type": "code",
   "execution_count": 1,
   "metadata": {},
   "outputs": [],
   "source": [
    "import pandas as pd\n",
    "import numpy as np \n",
    "from sklearn import datasets, linear_model, metrics \n",
    "from sklearn.model_selection import train_test_split\n",
    "import pickle\n",
    "import os.path"
   ]
  },
  {
   "cell_type": "markdown",
   "metadata": {},
   "source": [
    "#### Các hàm hỗ trợ"
   ]
  },
  {
   "cell_type": "markdown",
   "metadata": {},
   "source": [
    "Hàm đọc dữ liệu:"
   ]
  },
  {
   "cell_type": "code",
   "execution_count": 2,
   "metadata": {},
   "outputs": [],
   "source": [
    "def read_data(X_path, Y_path):\n",
    "    X = pd.read_csv(X_path, index_col='id')\n",
    "    Y = pd.read_csv(Y_path, index_col='id')\n",
    "    \n",
    "    return X, Y"
   ]
  },
  {
   "cell_type": "markdown",
   "metadata": {},
   "source": [
    "Hàm huấn luyện mô hình Linear Regression:"
   ]
  },
  {
   "cell_type": "code",
   "execution_count": 3,
   "metadata": {},
   "outputs": [],
   "source": [
    "def train_model(X_train, Y_train, filename=None):\n",
    "    if filename is None:\n",
    "        return linear_model.LinearRegression().fit(X_train, Y_train)\n",
    "    else:\n",
    "        if not os.path.isfile(filename): # Hình như model nào cũng tự thêm cột [1] vào nên ko cần fit_intercept = False\n",
    "            model = linear_model.LinearRegression().fit(X_train, Y_train)\n",
    "            pickle.dump(model, open(filename, 'wb'))\n",
    "            print(\"Saved model as: \", filename)\n",
    "        else:            \n",
    "            model = pickle.load(open(filename, 'rb'))\n",
    "            print(\"Loaded model in: \", filename)\n",
    "        return model"
   ]
  },
  {
   "cell_type": "markdown",
   "metadata": {},
   "source": [
    "Hàm đánh giá mô hình:"
   ]
  },
  {
   "cell_type": "code",
   "execution_count": 4,
   "metadata": {},
   "outputs": [],
   "source": [
    "def model_validation(model, X_train, X_test, Y_train, Y_test):\n",
    "    in_sample_prediction = model.predict(X_train)\n",
    "    mse = np.mean((Y_train.values - in_sample_prediction)**2)\n",
    "    \n",
    "    print(\"In-sample match: \", model.score(X_train, Y_train)*100, \"%\")\n",
    "    print(\"In-sample mse: \", mse)\n",
    "    print(\"In-sample rmse: \", np.sqrt(mse))\n",
    "    print('---------------------------------------')\n",
    "    prediction = model.predict(X_test)\n",
    "    mse_out = np.mean((Y_test.values - prediction)**2)\n",
    "    print(\"Out-sample match: \", model.score(X_test, Y_test)*100, \"%\")\n",
    "    print(\"Out-sample mse: \", mse_out)\n",
    "    print(\"Out-sample rmse: \",np.sqrt(mse_out))\n",
    "    \n",
    "    return dict(zip([\"Ein\", \"Eout\",\"rmse\", \"rmse_out\"], [100 - model.score(X_train, Y_train)*100, 100 - model.score(X_test, Y_test)*100, np.sqrt(mse), np.sqrt(mse_out)]))"
   ]
  },
  {
   "cell_type": "code",
   "execution_count": 5,
   "metadata": {},
   "outputs": [],
   "source": [
    "result_table = {\"Model 1\": None, \"Model 2\": None, \"Model 3\": None, \"Model 4\": None, \"Model 5\": None}"
   ]
  },
  {
   "cell_type": "markdown",
   "metadata": {},
   "source": [
    "## 1. Model 1 <a class=\"anchor\" id=\"model-1\"></a>\n",
    "### Model tách các cột dữ liệu chữ"
   ]
  },
  {
   "cell_type": "code",
   "execution_count": 6,
   "metadata": {},
   "outputs": [],
   "source": [
    "X, Y = read_data(\"X_train.csv\", \"Y_train.csv\")"
   ]
  },
  {
   "cell_type": "markdown",
   "metadata": {},
   "source": [
    "Mô hình 1 xử lý tập dữ liệu X theo các bước sau:\n",
    "- Lọc lấy các cột *numerical*: trong đó, cột `photos` được loại bỏ do các giá trị có vẻ là những con số ngẫu nhiên, không ảnh hưởng đến giá xe).\n",
    "- Xử lý các cột *categorical*:\n",
    "    + Cột `engineFuel` và `engineType` có dữ liệu tương tự nhau, nhưng ta chọn `engineFuel` do cột này chi tiết hơn. \n",
    "    + Với từng cột được chọn, sử dụng `pandas.unique` để lấy ra danh sách các giá trị có thể có.\n",
    "    + Từ danh sách trên, ứng với mỗi giá trị, một cột có tên is<giá trị> sẽ được thêm vào tập X mới, kiểu dữ liệu là boolean (TRUE/FALSE).  \n",
    "    Ví dụ: cột `engineFuel` có 5 loại là `gasoline`, `diesel`, `hybrid-petrol`, `electric` và `hybrid-diesel`. Vậy sẽ có 5 cột mới được thêm vào là `isgasoline`, `isdiesel`, `ishybrid-petrol`, `iselectric` và `ishybrid-diesel`.\n",
    "- Chuyển kiểu dữ liệu: chuyển các cột thành kiểu số thực.\n",
    "- Loại bỏ phần tử rỗng: trong tập X mới tồn tại các ô trống, ta thực hiện xóa các dòng chứa ô trống tương ứng trong tập X và Y."
   ]
  },
  {
   "cell_type": "code",
   "execution_count": 7,
   "metadata": {},
   "outputs": [],
   "source": [
    "def preprocess_data(X, Y):\n",
    "    X_df = X[['odometer', 'year', 'engineCapacity', \n",
    "                'feature_0', 'feature_1', 'feature_2', \n",
    "                'feature_3', 'feature_4', 'feature_5', \n",
    "                'feature_6', 'feature_7', 'feature_8', 'feature_9']].copy()\n",
    "    \n",
    "    categorical_cols = ['manufacturer', 'transmission', 'color', 'bodyType', 'drivetrain', 'engineFuel']\n",
    "    for col in categorical_cols:\n",
    "        for val in X[col].unique():\n",
    "            X_df['is' + val] = (X[col] == val)\n",
    "            \n",
    "    X_df = X_df.astype(float)\n",
    "    \n",
    "    index = [i for i, row in X_df.iterrows() if row.isnull().any()]\n",
    "    Y_df = Y.drop(index)\n",
    "    X_df = X_df.dropna()\n",
    "    \n",
    "    return X_df, Y_df"
   ]
  },
  {
   "cell_type": "code",
   "execution_count": 8,
   "metadata": {},
   "outputs": [
    {
     "data": {
      "text/plain": [
       "((23992, 97), (23992, 1), (5999, 97), (5999, 1))"
      ]
     },
     "execution_count": 8,
     "metadata": {},
     "output_type": "execute_result"
    }
   ],
   "source": [
    "X_df, Y_df = preprocess_data(X, Y)\n",
    "\n",
    "X_train, X_test, Y_train, Y_test = train_test_split(X_df, Y_df, test_size=0.2, random_state=0)\n",
    "\n",
    "X_train.shape, Y_train.shape, X_test.shape, Y_test.shape"
   ]
  },
  {
   "cell_type": "code",
   "execution_count": 9,
   "metadata": {},
   "outputs": [
    {
     "name": "stdout",
     "output_type": "stream",
     "text": [
      "Loaded model in:  DA1_Model1.pkl\n"
     ]
    }
   ],
   "source": [
    "regressor_1 = train_model(X_train, Y_train, \"DA1_Model1.pkl\")"
   ]
  },
  {
   "cell_type": "markdown",
   "metadata": {},
   "source": [
    "##### Kết quả đánh giá:"
   ]
  },
  {
   "cell_type": "code",
   "execution_count": 10,
   "metadata": {},
   "outputs": [
    {
     "name": "stdout",
     "output_type": "stream",
     "text": [
      "In-sample match:  75.43855536366783 %\n",
      "In-sample mse:  9154609.666163942\n",
      "In-sample rmse:  3025.658550822274\n",
      "---------------------------------------\n",
      "Out-sample match:  75.85404085094974 %\n",
      "Out-sample mse:  8807896.382742489\n",
      "Out-sample rmse:  2967.8100314444805\n"
     ]
    }
   ],
   "source": [
    "result_table[\"Model 1\"] = model_validation(regressor_1, X_train, X_test, Y_train, Y_test)"
   ]
  },
  {
   "cell_type": "markdown",
   "metadata": {},
   "source": [
    "## 2. Model 2 <a class=\"anchor\" id=\"model-2\"></a>\n",
    "### Model chỉ dùng các cột dữ liệu số làm tham số huấn luyện"
   ]
  },
  {
   "cell_type": "code",
   "execution_count": 11,
   "metadata": {},
   "outputs": [],
   "source": [
    "X, Y = read_data(\"X_train.csv\", \"Y_train.csv\")"
   ]
  },
  {
   "cell_type": "markdown",
   "metadata": {},
   "source": [
    "Mô hình 2 xử lý tập dữ liệu X theo các bước sau:\n",
    "- Lọc lấy các cột *numerical*, loại bỏ cột `photos`.\n",
    "- Thêm cột `x0` có toàn bộ giá trị là `1`.\n",
    "- Trừ các giá trị cột `year` với giá trị nhỏ nhất.\n",
    "- Chuyển kiểu dữ liệu: chuyển các cột thành kiểu số thực.\n",
    "- Loại bỏ phần tử rỗng."
   ]
  },
  {
   "cell_type": "code",
   "execution_count": 12,
   "metadata": {},
   "outputs": [],
   "source": [
    "def model_2_training_process(X, Y):\n",
    "    X_train = X[['odometer', 'year', 'engineCapacity', 'feature_0', 'feature_1', 'feature_2', 'feature_3', 'feature_4', 'feature_5', 'feature_6', 'feature_7', 'feature_8', 'feature_9']].copy().astype(float)\n",
    "    X_train['x0'] = 1\n",
    "    X_train['year'] -= min(X['year'])\n",
    "    \n",
    "    index = [i for i, row in X_train.iterrows() if row.isnull().any()]\n",
    "    Y_train = Y.drop(index)\n",
    "    X_train = X_train.dropna()\n",
    "    \n",
    "    return X_train, Y_train\n",
    "\n",
    "def model_2_process(X):\n",
    "    X_train = X[['odometer', 'year', 'engineCapacity', 'feature_0', 'feature_1', 'feature_2', 'feature_3', 'feature_4', 'feature_5', 'feature_6', 'feature_7', 'feature_8', 'feature_9']].copy().astype(float)\n",
    "    X_train['x0'] = 1\n",
    "    X_train['year'] -= min(X['year'])\n",
    "    \n",
    "    drop_index = [i for i, row in X_train.iterrows() if row.isnull().any()]\n",
    "    X_train = X_train.dropna()\n",
    "    \n",
    "    return X_train, drop_index"
   ]
  },
  {
   "cell_type": "code",
   "execution_count": 13,
   "metadata": {},
   "outputs": [
    {
     "data": {
      "text/plain": [
       "((23994, 14), (23994, 1), (5997, 14), (5997, 1))"
      ]
     },
     "execution_count": 13,
     "metadata": {},
     "output_type": "execute_result"
    }
   ],
   "source": [
    "X_train, X_test, Y_train, Y_test = train_test_split(X, Y, test_size=0.2, random_state=0)\n",
    "\n",
    "X_train, Y_train = model_2_training_process(X_train, Y_train)\n",
    "\n",
    "X_test, drop_inx = model_2_process(X_test)\n",
    "Y_test = Y_test.drop(drop_inx)\n",
    "\n",
    "X_train.shape, Y_train.shape, X_test.shape, Y_test.shape"
   ]
  },
  {
   "cell_type": "code",
   "execution_count": 14,
   "metadata": {},
   "outputs": [
    {
     "name": "stdout",
     "output_type": "stream",
     "text": [
      "Loaded model in:  DA1_Model2.pkl\n"
     ]
    }
   ],
   "source": [
    "regressor_2 = train_model(X_train, Y_train, \"DA1_Model2.pkl\")"
   ]
  },
  {
   "cell_type": "markdown",
   "metadata": {},
   "source": [
    "##### Kết quả đánh giá:"
   ]
  },
  {
   "cell_type": "code",
   "execution_count": 15,
   "metadata": {},
   "outputs": [
    {
     "name": "stdout",
     "output_type": "stream",
     "text": [
      "In-sample match:  67.63542428064186 %\n",
      "In-sample mse:  12032033.047601733\n",
      "In-sample rmse:  3468.722105848454\n",
      "---------------------------------------\n",
      "Out-sample match:  67.4735839975811 %\n",
      "Out-sample mse:  11983445.001762254\n",
      "Out-sample rmse:  3461.7112822652116\n"
     ]
    }
   ],
   "source": [
    "result_table[\"Model 2\"] = model_validation(regressor_2, X_train, X_test, Y_train, Y_test)"
   ]
  },
  {
   "cell_type": "markdown",
   "metadata": {},
   "source": [
    "## 3. Model 3 <a class=\"anchor\" id=\"model-3\"></a>\n",
    "### Tự tính weight cho nhãn"
   ]
  },
  {
   "cell_type": "code",
   "execution_count": 16,
   "metadata": {},
   "outputs": [],
   "source": [
    "X, Y = read_data(\"X_train.csv\", \"Y_train.csv\")"
   ]
  },
  {
   "cell_type": "markdown",
   "metadata": {},
   "source": [
    "Mô hình 3 tính trọng số cho các nhãn theo công thức sau:\n",
    "$$ w_{Nhãn} = \\frac{Trung \\, Bình \\, Giá(Nhãn)}{Nhãn_{min} \\, trong \\, cột} $$"
   ]
  },
  {
   "cell_type": "markdown",
   "metadata": {},
   "source": [
    "#### Các hàm hỗ trợ"
   ]
  },
  {
   "cell_type": "code",
   "execution_count": 17,
   "metadata": {},
   "outputs": [],
   "source": [
    "def scale_nominal(X, Y, col):\n",
    "    label = X[col].unique()\n",
    "    scale = {key: 1e0 for key in label}\n",
    "    arr = []\n",
    "    \n",
    "    for l in label:\n",
    "        ind = X.index[X[col] == l].to_list()\n",
    "        s = sum(Y.iloc[i-1]['price'] for i in ind)\n",
    "        scale[l] = s/len(ind)\n",
    "        \n",
    "    min_l = min(scale, key=scale.get)\n",
    "    base = scale[min_l]\n",
    "    \n",
    "    for key in scale.keys():\n",
    "        scale[key] /= base\n",
    "        arr.append(scale[key])\n",
    "    \n",
    "    scale[\"Other\"] = np.mean(arr) # Ko su dung vi ket qua te\n",
    "        \n",
    "    return scale"
   ]
  },
  {
   "cell_type": "code",
   "execution_count": 18,
   "metadata": {},
   "outputs": [],
   "source": [
    "def calculate_nominal(X, save_to = None):\n",
    "    label_col = [\"manufacturer\",  \"model\",\"transmission\",\"color\",\"engineFuel\",\"engineType\",\"bodyType\",\"drivetrain\"]\n",
    "    \n",
    "    X_train = X.copy()\n",
    "    X_train = X_train.dropna()\n",
    "    \n",
    "    scale = {key: 1e0 for key in label_col}\n",
    "    for s in label_col:\n",
    "        scale[s] = scale_nominal(X_train, Y, s)\n",
    "        \n",
    "    if save_to != None:\n",
    "        output = open(save_to, 'wb')\n",
    "        pickle.dump(scale, output)\n",
    "        \n",
    "    return scale"
   ]
  },
  {
   "cell_type": "code",
   "execution_count": 19,
   "metadata": {},
   "outputs": [],
   "source": [
    "def model_self_labeled_process(X, scale):\n",
    "    X_train = X.copy()\n",
    "    X_train.drop([\"photos\"], axis=1)\n",
    "    index = [i for i, row in X_train.iterrows() if row.isnull().any()]\n",
    "\n",
    "    X_train = X_train.dropna()\n",
    "    X_train['year'] -= min(X['year'])\n",
    "    \n",
    "    label_col = [\"manufacturer\", \"model\",\"transmission\",\"color\",\"engineFuel\",\"engineType\",\"bodyType\",\"drivetrain\"]\n",
    "    \n",
    "    for s in label_col:\n",
    "        d = scale[s]\n",
    "        for key in d.keys():\n",
    "            if key != \"Other\":\n",
    "                X_train.replace(key, d[key], inplace=True)\n",
    "        for u in X_train[s].unique():\n",
    "            try:\n",
    "                float(u)\n",
    "            except ValueError:\n",
    "                # print(\"Droping \", u)\n",
    "                # X_train.replace(u, d[\"Other\"], inplace=True) # Ket qua rat te!\n",
    "                idx = X_train[ X_train[s] == u ].index\n",
    "                X_train.drop(idx , inplace=True)\n",
    "                index.append(idx)\n",
    "        \n",
    "    X_train.replace(True, 1, inplace=True)\n",
    "    X_train.replace(False, 0, inplace=True)\n",
    "    X_train['x0'] = 1\n",
    "    \n",
    "    X_train = X_train.astype(float)\n",
    "    \n",
    "    return X_train, index"
   ]
  },
  {
   "cell_type": "code",
   "execution_count": 20,
   "metadata": {},
   "outputs": [
    {
     "name": "stdout",
     "output_type": "stream",
     "text": [
      "Loaded scale\n"
     ]
    }
   ],
   "source": [
    "fname = \"model_scaling.pkl\"\n",
    "if not os.path.isfile(fname):    \n",
    "    scale = calculate_nominal(X, fname)\n",
    "    print(\"Saved scale\")\n",
    "else:\n",
    "    print(\"Loaded scale\")\n",
    "    scale = pickle.load(open(fname, 'rb'))"
   ]
  },
  {
   "cell_type": "code",
   "execution_count": 21,
   "metadata": {},
   "outputs": [
    {
     "data": {
      "text/plain": [
       "((24000, 22), (24000, 1), (6000, 22), (6000, 1))"
      ]
     },
     "execution_count": 21,
     "metadata": {},
     "output_type": "execute_result"
    }
   ],
   "source": [
    "X_train, X_test, Y_train, Y_test = train_test_split(X, Y, test_size=0.2, random_state=0)\n",
    "\n",
    "X_train.shape, Y_train.shape, X_test.shape, Y_test.shape"
   ]
  },
  {
   "cell_type": "code",
   "execution_count": 22,
   "metadata": {},
   "outputs": [
    {
     "data": {
      "text/plain": [
       "((23994, 23), (23994, 1))"
      ]
     },
     "execution_count": 22,
     "metadata": {},
     "output_type": "execute_result"
    }
   ],
   "source": [
    "X_train, drop_idx = model_self_labeled_process(X_train, scale)\n",
    "Y_train = Y_train.drop(drop_idx)\n",
    "\n",
    "X_train.shape, Y_train.shape"
   ]
  },
  {
   "cell_type": "code",
   "execution_count": 23,
   "metadata": {},
   "outputs": [
    {
     "name": "stdout",
     "output_type": "stream",
     "text": [
      "Loaded model in:  DA1_Model3.pkl\n"
     ]
    }
   ],
   "source": [
    "regressor_3 = train_model(X_train, Y_train, \"DA1_Model3.pkl\")"
   ]
  },
  {
   "cell_type": "code",
   "execution_count": 24,
   "metadata": {},
   "outputs": [
    {
     "data": {
      "text/plain": [
       "((5997, 23), (5997, 1))"
      ]
     },
     "execution_count": 24,
     "metadata": {},
     "output_type": "execute_result"
    }
   ],
   "source": [
    "X_test, drop_idx = model_self_labeled_process(X_test, scale)\n",
    "Y_test = Y_test.drop(drop_idx)\n",
    "\n",
    "X_test.shape, Y_test.shape"
   ]
  },
  {
   "cell_type": "markdown",
   "metadata": {},
   "source": [
    "##### Kết quả đánh giá:"
   ]
  },
  {
   "cell_type": "code",
   "execution_count": 25,
   "metadata": {},
   "outputs": [
    {
     "name": "stdout",
     "output_type": "stream",
     "text": [
      "In-sample match:  77.66415806315938 %\n",
      "In-sample mse:  8303695.702994523\n",
      "In-sample rmse:  2881.613385413547\n",
      "---------------------------------------\n",
      "Out-sample match:  77.682268167743 %\n",
      "Out-sample mse:  8222341.863795917\n",
      "Out-sample rmse:  2867.4626176806414\n"
     ]
    }
   ],
   "source": [
    "result_table[\"Model 3\"] = model_validation(regressor_3, X_train, X_test, Y_train, Y_test)"
   ]
  },
  {
   "cell_type": "markdown",
   "metadata": {},
   "source": [
    "## 4. Model 4 <a class=\"anchor\" id=\"model-4\"></a>"
   ]
  },
  {
   "cell_type": "code",
   "execution_count": 26,
   "metadata": {},
   "outputs": [],
   "source": [
    "X, Y = read_data(\"X_train.csv\", \"Y_train.csv\")\n",
    "X[\"x0\"] = 1"
   ]
  },
  {
   "cell_type": "markdown",
   "metadata": {},
   "source": [
    "Mô hình sử dụng `Pipeline` trong `sklearn.pipeline`:\n",
    "- Gọi `fit` để tính giá trị mean được sử dụng khi chia dữ liệu sau này.\n",
    "- Sau đó gọi `transform` để sử dụng giá trị mean dc tính trước đó để scale dữ liệu.\n",
    "- `Pipeline` này được lưu lại"
   ]
  },
  {
   "cell_type": "markdown",
   "metadata": {},
   "source": [
    "##### Thư viện hỗ trợ"
   ]
  },
  {
   "cell_type": "code",
   "execution_count": 27,
   "metadata": {},
   "outputs": [],
   "source": [
    "from sklearn.pipeline import Pipeline\n",
    "from sklearn.impute import SimpleImputer\n",
    "from sklearn.preprocessing import StandardScaler\n",
    "from sklearn.preprocessing import PolynomialFeatures\n",
    "from sklearn.preprocessing import OrdinalEncoder\n",
    "from sklearn.preprocessing import OneHotEncoder\n",
    "from sklearn.compose import ColumnTransformer"
   ]
  },
  {
   "cell_type": "markdown",
   "metadata": {},
   "source": [
    "##### Các hàm hỗ trợ"
   ]
  },
  {
   "cell_type": "code",
   "execution_count": 28,
   "metadata": {},
   "outputs": [],
   "source": [
    "def transfrom_data(X, pipeline):\n",
    "    return pipeline.transform(X)"
   ]
  },
  {
   "cell_type": "code",
   "execution_count": 29,
   "metadata": {},
   "outputs": [],
   "source": [
    "features = []\n",
    "for i in range(10):\n",
    "    feature = f'feature_{i}'\n",
    "    features.append(feature)\n",
    "nAn_features = [\"manufacturer\", \"transmission\", \"color\", \"engineFuel\", \"engineType\", \"bodyType\", \"drivetrain\"]\n",
    "nAn_features_all = nAn_features + features"
   ]
  },
  {
   "cell_type": "code",
   "execution_count": 30,
   "metadata": {},
   "outputs": [
    {
     "name": "stdout",
     "output_type": "stream",
     "text": [
      "Loaded pipeline\n"
     ]
    }
   ],
   "source": [
    "fname = \"pipeline.pkl\"\n",
    "X_num = X[['odometer', 'year', 'engineCapacity']].astype(float)\n",
    "if not os.path.isfile(fname):\n",
    "    num_pipeline = Pipeline([\n",
    "        ('imputer', SimpleImputer(strategy=\"median\")),\n",
    "        ('poly_features', PolynomialFeatures(degree=3, include_bias=False)),\n",
    "        ('std_scaler', StandardScaler()),\n",
    "    ])\n",
    "\n",
    "    num_attribs = list(X_num)\n",
    "    cat_attribs = [n for n in nAn_features_all if n != 'engineType' and n not in features]\n",
    "    cat_attribs_binary = features\n",
    "\n",
    "    full_pipeline = ColumnTransformer([\n",
    "    (\"num\", num_pipeline, num_attribs),\n",
    "     (\"cat_binary\", OrdinalEncoder(), cat_attribs_binary),   \n",
    "    (\"cat\", OneHotEncoder(), cat_attribs),\n",
    "    ])\n",
    "    full_pipeline.fit(X)\n",
    "    pickle.dump(full_pipeline, open(fname, 'wb'))\n",
    "    print(\"Saved pipeline\")\n",
    "else:\n",
    "    full_pipeline = pickle.load(open(fname, 'rb'))\n",
    "    print(\"Loaded pipeline\")"
   ]
  },
  {
   "cell_type": "markdown",
   "metadata": {},
   "source": [
    "**Ghi chú:**  \n",
    "Trong đó:\n",
    "- Cột `data_num` là các cột `odometer`, `year`, `engineCapacity`\n",
    "- `cat_attribs` là tất cả cột còn lại trừ `engineType` và không phải các cột `features`.\n",
    "- `cat_attribs_binary` là tất cả cột `features`.\n",
    "\n",
    "Ngoài ra, phần xử lý dữ liệu trước khi đưa vào model train là:  \n",
    "`full_pipeline = ColumnTransformer([\n",
    "    (\"num\", num_pipeline, num_attribs),\n",
    "    (\"cat_binary\", OrdinalEncoder(), cat_attribs_binary),\n",
    "    (\"cat\", OneHotEncoder(), cat_attribs),\n",
    "    ])`  \n",
    "với:\n",
    "- Biến đầu là biến gán tên.\n",
    "- Biến giữa là hàm/class thực hiện xử lý.\n",
    "- Biến cuối là các cột chứa dữ liệu muốn biến đổi."
   ]
  },
  {
   "cell_type": "code",
   "execution_count": 31,
   "metadata": {},
   "outputs": [
    {
     "data": {
      "text/plain": [
       "((24000, 23), (24000, 1), (6000, 23), (6000, 1))"
      ]
     },
     "execution_count": 31,
     "metadata": {},
     "output_type": "execute_result"
    }
   ],
   "source": [
    "X_train, X_test, Y_train, Y_test = train_test_split(X, Y, test_size=0.2, random_state=0)\n",
    "\n",
    "X_train.shape, Y_train.shape, X_test.shape, Y_test.shape"
   ]
  },
  {
   "cell_type": "code",
   "execution_count": 32,
   "metadata": {},
   "outputs": [
    {
     "data": {
      "text/plain": [
       "(24000, 113)"
      ]
     },
     "execution_count": 32,
     "metadata": {},
     "output_type": "execute_result"
    }
   ],
   "source": [
    "X_prepared = transfrom_data(X_train, full_pipeline)\n",
    "X_prepared.shape"
   ]
  },
  {
   "cell_type": "code",
   "execution_count": 33,
   "metadata": {},
   "outputs": [
    {
     "name": "stdout",
     "output_type": "stream",
     "text": [
      "Loaded model in:  DA1_Model4.pkl\n"
     ]
    }
   ],
   "source": [
    "regressor_4 = train_model(X_prepared, Y_train, \"DA1_Model4.pkl\")"
   ]
  },
  {
   "cell_type": "code",
   "execution_count": 34,
   "metadata": {},
   "outputs": [],
   "source": [
    "X_test_transform = transfrom_data(X_test, full_pipeline)"
   ]
  },
  {
   "cell_type": "markdown",
   "metadata": {},
   "source": [
    "##### Kết quả đánh giá:"
   ]
  },
  {
   "cell_type": "code",
   "execution_count": 35,
   "metadata": {},
   "outputs": [
    {
     "name": "stdout",
     "output_type": "stream",
     "text": [
      "In-sample match:  86.35034583800973 %\n",
      "In-sample mse:  5076578.079770484\n",
      "In-sample rmse:  2253.12629023996\n",
      "---------------------------------------\n",
      "Out-sample match:  86.67181725450493 %\n",
      "Out-sample mse:  4935403.754647183\n",
      "Out-sample rmse:  2221.576862196576\n"
     ]
    }
   ],
   "source": [
    "result_table[\"Model 4\"] = model_validation(regressor_4,  X_prepared, X_test_transform, Y_train, Y_test)"
   ]
  },
  {
   "cell_type": "markdown",
   "metadata": {},
   "source": [
    "## 5. Model 5 <a class=\"anchor\" id=\"model-5\"></a>"
   ]
  },
  {
   "cell_type": "markdown",
   "metadata": {},
   "source": [
    "Tương tự như model 4, nhưng (thử nghiệm) áp dụng cho tất cả các cột"
   ]
  },
  {
   "cell_type": "markdown",
   "metadata": {},
   "source": [
    "#### Thư viện hỗ trợ"
   ]
  },
  {
   "cell_type": "code",
   "execution_count": 36,
   "metadata": {},
   "outputs": [],
   "source": [
    "import csv\n",
    "from sklearn.preprocessing import LabelEncoder"
   ]
  },
  {
   "cell_type": "markdown",
   "metadata": {},
   "source": [
    "#### Các hàm hỗ trợ"
   ]
  },
  {
   "cell_type": "code",
   "execution_count": 37,
   "metadata": {},
   "outputs": [],
   "source": [
    "def read_csv(X_path, Y_path):\n",
    "    x= []\n",
    "    y= [] \n",
    "    with open(X_path,'rt') as f:\n",
    "        data1 = csv.reader(f)\n",
    "        for i in data1:\n",
    "            i.append('1')\n",
    "            x.append(i)\n",
    "    with open(Y_path,'rt') as g:\n",
    "        data2 = csv.reader(g)\n",
    "        for i in data2:\n",
    "            y.append(i)\n",
    "            \n",
    "    x=np.array(x)[1:,1:]                                         #Xóa dòng đầu cột đầu\n",
    "    y = np.array(y)[1:,1:].flatten().astype(np.float)            #Xóa dòng đầu cột đầu\n",
    "    return x, y"
   ]
  },
  {
   "cell_type": "code",
   "execution_count": 38,
   "metadata": {},
   "outputs": [],
   "source": [
    "X, Y = read_csv('X_train.csv', 'Y_train.csv')"
   ]
  },
  {
   "cell_type": "code",
   "execution_count": 39,
   "metadata": {},
   "outputs": [],
   "source": [
    "def model_validation2(model, X_train, X_test, Y_train, Y_test):\n",
    "    in_sample_prediction = model.predict(X_train)\n",
    "    mse = np.mean((Y_train - in_sample_prediction)**2)\n",
    "    print(\"In-sample match: \", model.score(X_train, Y_train)*100, \"%\")\n",
    "    print(\"In-sample mse: \", mse)\n",
    "    print(\"In-sample rmse: \", np.sqrt(mse))\n",
    "    print('---------------------------------------')\n",
    "    \n",
    "    prediction = model.predict(X_test)\n",
    "    mse_out = np.mean((Y_test - prediction)**2)\n",
    "    print(\"Out-sample match: \", model.score(X_test, Y_test)*100, \"%\")\n",
    "    print(\"Out-sample mse: \", mse_out)\n",
    "    print(\"Out-sample rmse: \",np.sqrt(mse_out))\n",
    "    \n",
    "    return dict(zip([\"Ein\", \"Eout\",\"rmse\", \"rmse_out\"], [100 - model.score(X_train, Y_train)*100, 100 - model.score(X_test, Y_test)*100, np.sqrt(mse), np.sqrt(mse_out)]))"
   ]
  },
  {
   "cell_type": "code",
   "execution_count": 40,
   "metadata": {},
   "outputs": [],
   "source": [
    "def train_label(X):\n",
    "    x = X.copy()\n",
    "    index = [0,1,2,3,6,7,9,10,12,13,14,15,16,17,18,19,20,21]\n",
    "    index2 = list(range(0,22))\n",
    "    label_encoder_list = []\n",
    "    for i in index2:\n",
    "        labelencoder = LabelEncoder().fit(x[:,i])\n",
    "        x[:,i] = labelencoder.transform(x[:,i])\n",
    "        label_encoder_list.append(labelencoder)\n",
    "        \n",
    "    onehot_encoder = OneHotEncoder(dtype=int)\n",
    "    onehot_encoder = onehot_encoder.fit(x)\n",
    "    \n",
    "    return label_encoder_list, onehot_encoder"
   ]
  },
  {
   "cell_type": "code",
   "execution_count": 41,
   "metadata": {},
   "outputs": [],
   "source": [
    "def process_data(X, label_encoder_list, onehot_encoder):\n",
    "    for i in list(range(0,22)):\n",
    "        X[:,i] = label_encoder_list[i].transform(X[:,i])\n",
    "        \n",
    "    X = onehot_encoder.transform(X)\n",
    "    \n",
    "    X = X.astype(np.int)\n",
    "    \n",
    "    return X"
   ]
  },
  {
   "cell_type": "code",
   "execution_count": 42,
   "metadata": {},
   "outputs": [
    {
     "name": "stdout",
     "output_type": "stream",
     "text": [
      "Loaded encoder\n"
     ]
    }
   ],
   "source": [
    "fname = \"encoder.pkl\"\n",
    "if not os.path.isfile(fname):\n",
    "    encoder = {\"label_encoder_list\": [], \"onehot_encoder\": None}\n",
    "    encoder[\"label_encoder_list\"], encoder[\"onehot_encoder\"] = train_label(X)\n",
    "    pickle.dump(encoder, open(fname, 'wb'))\n",
    "    print(\"Saved encoder\")\n",
    "else:\n",
    "    encoder = pickle.load(open(fname, 'rb'))\n",
    "    print(\"Loaded encoder\")"
   ]
  },
  {
   "cell_type": "code",
   "execution_count": 43,
   "metadata": {},
   "outputs": [],
   "source": [
    "X_train, X_test, Y_train, Y_test = train_test_split(X, Y, test_size=0.2, random_state=0)"
   ]
  },
  {
   "cell_type": "code",
   "execution_count": 44,
   "metadata": {},
   "outputs": [],
   "source": [
    "X_train = process_data(X_train, encoder[\"label_encoder_list\"], encoder[\"onehot_encoder\"])"
   ]
  },
  {
   "cell_type": "code",
   "execution_count": 45,
   "metadata": {},
   "outputs": [
    {
     "name": "stdout",
     "output_type": "stream",
     "text": [
      "Loaded model in:  DA1_Model5.pkl\n"
     ]
    }
   ],
   "source": [
    "regressor5 = train_model(X_train, Y_train, \"DA1_Model5.pkl\")"
   ]
  },
  {
   "cell_type": "code",
   "execution_count": 46,
   "metadata": {},
   "outputs": [],
   "source": [
    "X_test = process_data(X_test, encoder[\"label_encoder_list\"], encoder[\"onehot_encoder\"])"
   ]
  },
  {
   "cell_type": "markdown",
   "metadata": {},
   "source": [
    "##### Kết quả đánh giá:"
   ]
  },
  {
   "cell_type": "code",
   "execution_count": 47,
   "metadata": {},
   "outputs": [
    {
     "name": "stdout",
     "output_type": "stream",
     "text": [
      "In-sample match:  92.62568955479722 %\n",
      "In-sample mse:  2742652.840522982\n",
      "In-sample rmse:  1656.0956616460844\n",
      "---------------------------------------\n",
      "Out-sample match:  83.37209416195716 %\n",
      "Out-sample mse:  6157285.690934466\n",
      "Out-sample rmse:  2481.387855804583\n"
     ]
    }
   ],
   "source": [
    "result_table[\"Model 5\"] = model_validation2(regressor5, X_train, X_test, Y_train, Y_test)"
   ]
  },
  {
   "cell_type": "markdown",
   "metadata": {},
   "source": [
    "# III. Tổng hợp kết quả"
   ]
  },
  {
   "cell_type": "code",
   "execution_count": 48,
   "metadata": {},
   "outputs": [
    {
     "name": "stdout",
     "output_type": "stream",
     "text": [
      "\t\tEin\t\tEout\t\trmse\t\trmse_out\n",
      "Model 1 \t24.5614 % \t24.1460 % \t3025.6586 \t2967.8100\n",
      "Model 2 \t32.3646 % \t32.5264 % \t3468.7221 \t3461.7113\n",
      "Model 3 \t22.3358 % \t22.3177 % \t2881.6134 \t2867.4626\n",
      "Model 4 \t13.6497 % \t13.3282 % \t2253.1263 \t2221.5769\n",
      "Model 5 \t7.3743 % \t16.6279 % \t1656.0957 \t2481.3879\n"
     ]
    }
   ],
   "source": [
    "print('\\t\\tEin\\t\\tEout\\t\\trmse\\t\\trmse_out')\n",
    "for key in result_table:\n",
    "    values = list(result_table[key].values())\n",
    "    print(key, '\\t%.4f' %values[0], '%', '\\t%.4f' %values[1], '%', '\\t%.4f' %values[2], '\\t%.4f' %values[3])"
   ]
  },
  {
   "cell_type": "markdown",
   "metadata": {},
   "source": [
    "## Model được chọn là: Model 4"
   ]
  },
  {
   "cell_type": "markdown",
   "metadata": {},
   "source": [
    "Do có độ lỗi thấp nhất và gần bằng nhau ở trong và ngoài tập huấn luyện.\n",
    "\n",
    "Không chọn model 5 vì độ lỗi chênh lệch cao giữa trong và ngoài tập huấn luyện, thể hiện bias cao"
   ]
  }
 ],
 "metadata": {
  "kernelspec": {
   "display_name": "Python 3",
   "language": "python",
   "name": "python3"
  },
  "language_info": {
   "codemirror_mode": {
    "name": "ipython",
    "version": 3
   },
   "file_extension": ".py",
   "mimetype": "text/x-python",
   "name": "python",
   "nbconvert_exporter": "python",
   "pygments_lexer": "ipython3",
   "version": "3.7.4"
  }
 },
 "nbformat": 4,
 "nbformat_minor": 2
}
