{
 "cells": [
  {
   "cell_type": "markdown",
   "metadata": {},
   "source": [
    "Lớp **Toán ứng dụng và thống kê - 17/11**  \n",
    "Học kì II, 2019 - 2020"
   ]
  },
  {
   "cell_type": "markdown",
   "metadata": {},
   "source": [
    "<hr>"
   ]
  },
  {
   "cell_type": "markdown",
   "metadata": {},
   "source": [
    "<br>\n",
    "<center><b><font size=\"10\">ĐỒ ÁN 2</font></b></center>\n",
    "<br>"
   ]
  },
  {
   "cell_type": "markdown",
   "metadata": {},
   "source": [
    "<center>\n",
    "    <font size=\"4\"><b>Nhóm thực hiện:</b></font><br>\n",
    "    Trần Minh Trí - 1712834&emsp;Nguyễn Nhật Trường - 1712852<br>\n",
    "    Lê Trường Vĩ - 1712900&emsp;Nguyễn Hửu Trí - 1712832<br>\n",
    "</center>"
   ]
  },
  {
   "cell_type": "markdown",
   "metadata": {},
   "source": [
    "<hr>"
   ]
  },
  {
   "cell_type": "markdown",
   "metadata": {},
   "source": [
    "#### Các thư viện hỗ trợ"
   ]
  },
  {
   "cell_type": "code",
   "execution_count": 1,
   "metadata": {},
   "outputs": [],
   "source": [
    "import numpy as np\n",
    "import pandas as pd\n",
    "import matplotlib.pyplot as plt\n",
    "import matplotlib.image as mpimg\n",
    "import math\n",
    "\n",
    "from sklearn import preprocessing\n",
    "from sklearn import linear_model\n",
    "from sklearn.model_selection import train_test_split\n",
    "from sklearn.metrics import mean_squared_error\n",
    "from sklearn.preprocessing import StandardScaler\n",
    "\n",
    "import pickle\n",
    "import os.path\n",
    "\n",
    "%matplotlib inline\n",
    "import matplotlib.pyplot as plt"
   ]
  },
  {
   "cell_type": "markdown",
   "metadata": {},
   "source": [
    "# I. Dữ liệu"
   ]
  },
  {
   "cell_type": "markdown",
   "metadata": {},
   "source": [
    "Dữ liệu là tập dữ liệu về một số loại ký hiệu xuất hiện trong ngôn ngữ ký hiệu, được chia thành hai phần *train* (27,000 mẫu) và *test* (7,000 mẫu).  \n",
    "Mỗi mẫu gồm có:\n",
    "-  Một bức ảnh trắng đen (grayscale), có kích thước 28 × 28 điểm ảnh (pixel). Chính giữa bức ảnh sẽ có hình ảnh về một ký hiệu.\n",
    "- Nhãn của bức ảnh sẽ có giá trị từ 0 đến 24, mỗi giá trị đó sẽ tương ứng với một loại ký hiệu nào đó.\n",
    "\n",
    "Phần *train* được lấy tại [link](https://drive.google.com/drive/folders/1lQz5986WF7a5W5IcLW8oekbrNGSbivre), gồm:\n",
    "-  `label` (nhãn) và các `pixel` (điểm ảnh).\n",
    "- Điểm ảnh ở vị trí dòng `i`, cột `j` với `0 ≤ i, j < 28` sẽ tương ứng với pixel thứ `28∗i+j+1`."
   ]
  },
  {
   "cell_type": "markdown",
   "metadata": {},
   "source": [
    "## 1. Đọc dữ liệu"
   ]
  },
  {
   "cell_type": "code",
   "execution_count": 2,
   "metadata": {
    "scrolled": true
   },
   "outputs": [
    {
     "data": {
      "text/html": [
       "<div>\n",
       "<style scoped>\n",
       "    .dataframe tbody tr th:only-of-type {\n",
       "        vertical-align: middle;\n",
       "    }\n",
       "\n",
       "    .dataframe tbody tr th {\n",
       "        vertical-align: top;\n",
       "    }\n",
       "\n",
       "    .dataframe thead th {\n",
       "        text-align: right;\n",
       "    }\n",
       "</style>\n",
       "<table border=\"1\" class=\"dataframe\">\n",
       "  <thead>\n",
       "    <tr style=\"text-align: right;\">\n",
       "      <th></th>\n",
       "      <th>label</th>\n",
       "      <th>pixel1</th>\n",
       "      <th>pixel2</th>\n",
       "      <th>pixel3</th>\n",
       "      <th>pixel4</th>\n",
       "      <th>pixel5</th>\n",
       "      <th>pixel6</th>\n",
       "      <th>pixel7</th>\n",
       "      <th>pixel8</th>\n",
       "      <th>pixel9</th>\n",
       "      <th>...</th>\n",
       "      <th>pixel775</th>\n",
       "      <th>pixel776</th>\n",
       "      <th>pixel777</th>\n",
       "      <th>pixel778</th>\n",
       "      <th>pixel779</th>\n",
       "      <th>pixel780</th>\n",
       "      <th>pixel781</th>\n",
       "      <th>pixel782</th>\n",
       "      <th>pixel783</th>\n",
       "      <th>pixel784</th>\n",
       "    </tr>\n",
       "  </thead>\n",
       "  <tbody>\n",
       "    <tr>\n",
       "      <th>0</th>\n",
       "      <td>16</td>\n",
       "      <td>123</td>\n",
       "      <td>124</td>\n",
       "      <td>128</td>\n",
       "      <td>133</td>\n",
       "      <td>137</td>\n",
       "      <td>143</td>\n",
       "      <td>147</td>\n",
       "      <td>151</td>\n",
       "      <td>156</td>\n",
       "      <td>...</td>\n",
       "      <td>16</td>\n",
       "      <td>17</td>\n",
       "      <td>17</td>\n",
       "      <td>17</td>\n",
       "      <td>13</td>\n",
       "      <td>38</td>\n",
       "      <td>212</td>\n",
       "      <td>219</td>\n",
       "      <td>218</td>\n",
       "      <td>219</td>\n",
       "    </tr>\n",
       "    <tr>\n",
       "      <th>1</th>\n",
       "      <td>0</td>\n",
       "      <td>141</td>\n",
       "      <td>142</td>\n",
       "      <td>143</td>\n",
       "      <td>145</td>\n",
       "      <td>147</td>\n",
       "      <td>149</td>\n",
       "      <td>150</td>\n",
       "      <td>151</td>\n",
       "      <td>151</td>\n",
       "      <td>...</td>\n",
       "      <td>180</td>\n",
       "      <td>179</td>\n",
       "      <td>180</td>\n",
       "      <td>180</td>\n",
       "      <td>181</td>\n",
       "      <td>181</td>\n",
       "      <td>182</td>\n",
       "      <td>182</td>\n",
       "      <td>182</td>\n",
       "      <td>184</td>\n",
       "    </tr>\n",
       "    <tr>\n",
       "      <th>2</th>\n",
       "      <td>8</td>\n",
       "      <td>217</td>\n",
       "      <td>218</td>\n",
       "      <td>218</td>\n",
       "      <td>218</td>\n",
       "      <td>218</td>\n",
       "      <td>218</td>\n",
       "      <td>217</td>\n",
       "      <td>218</td>\n",
       "      <td>217</td>\n",
       "      <td>...</td>\n",
       "      <td>239</td>\n",
       "      <td>241</td>\n",
       "      <td>239</td>\n",
       "      <td>239</td>\n",
       "      <td>237</td>\n",
       "      <td>235</td>\n",
       "      <td>233</td>\n",
       "      <td>232</td>\n",
       "      <td>231</td>\n",
       "      <td>228</td>\n",
       "    </tr>\n",
       "    <tr>\n",
       "      <th>3</th>\n",
       "      <td>4</td>\n",
       "      <td>214</td>\n",
       "      <td>215</td>\n",
       "      <td>217</td>\n",
       "      <td>216</td>\n",
       "      <td>217</td>\n",
       "      <td>217</td>\n",
       "      <td>218</td>\n",
       "      <td>218</td>\n",
       "      <td>220</td>\n",
       "      <td>...</td>\n",
       "      <td>74</td>\n",
       "      <td>233</td>\n",
       "      <td>255</td>\n",
       "      <td>255</td>\n",
       "      <td>255</td>\n",
       "      <td>255</td>\n",
       "      <td>255</td>\n",
       "      <td>255</td>\n",
       "      <td>255</td>\n",
       "      <td>255</td>\n",
       "    </tr>\n",
       "    <tr>\n",
       "      <th>4</th>\n",
       "      <td>10</td>\n",
       "      <td>134</td>\n",
       "      <td>137</td>\n",
       "      <td>140</td>\n",
       "      <td>142</td>\n",
       "      <td>144</td>\n",
       "      <td>145</td>\n",
       "      <td>145</td>\n",
       "      <td>147</td>\n",
       "      <td>148</td>\n",
       "      <td>...</td>\n",
       "      <td>213</td>\n",
       "      <td>210</td>\n",
       "      <td>211</td>\n",
       "      <td>211</td>\n",
       "      <td>211</td>\n",
       "      <td>209</td>\n",
       "      <td>208</td>\n",
       "      <td>208</td>\n",
       "      <td>208</td>\n",
       "      <td>207</td>\n",
       "    </tr>\n",
       "  </tbody>\n",
       "</table>\n",
       "<p>5 rows × 785 columns</p>\n",
       "</div>"
      ],
      "text/plain": [
       "   label  pixel1  pixel2  pixel3  pixel4  pixel5  pixel6  pixel7  pixel8  \\\n",
       "0     16     123     124     128     133     137     143     147     151   \n",
       "1      0     141     142     143     145     147     149     150     151   \n",
       "2      8     217     218     218     218     218     218     217     218   \n",
       "3      4     214     215     217     216     217     217     218     218   \n",
       "4     10     134     137     140     142     144     145     145     147   \n",
       "\n",
       "   pixel9    ...     pixel775  pixel776  pixel777  pixel778  pixel779  \\\n",
       "0     156    ...           16        17        17        17        13   \n",
       "1     151    ...          180       179       180       180       181   \n",
       "2     217    ...          239       241       239       239       237   \n",
       "3     220    ...           74       233       255       255       255   \n",
       "4     148    ...          213       210       211       211       211   \n",
       "\n",
       "   pixel780  pixel781  pixel782  pixel783  pixel784  \n",
       "0        38       212       219       218       219  \n",
       "1       181       182       182       182       184  \n",
       "2       235       233       232       231       228  \n",
       "3       255       255       255       255       255  \n",
       "4       209       208       208       208       207  \n",
       "\n",
       "[5 rows x 785 columns]"
      ]
     },
     "execution_count": 2,
     "metadata": {},
     "output_type": "execute_result"
    }
   ],
   "source": [
    "data = pd.read_csv(\"train.csv\")\n",
    "data.head()"
   ]
  },
  {
   "cell_type": "markdown",
   "metadata": {},
   "source": [
    "## 2. Hiển thị một số hình ảnh và nhãn"
   ]
  },
  {
   "cell_type": "code",
   "execution_count": 3,
   "metadata": {},
   "outputs": [
    {
     "data": {
      "image/png": "[encoded data removed]",
      "text/plain": [
       "<Figure size 720x720 with 25 Axes>"
      ]
     },
     "metadata": {},
     "output_type": "display_data"
    }
   ],
   "source": [
    "numbers_image = 25\n",
    "\n",
    "# Số ô giữ hình\n",
    "cells = math.ceil(math.sqrt(numbers_image))\n",
    "\n",
    "# tăng kích thước ô hình\n",
    "plt.figure(figsize=(10, 10))\n",
    "\n",
    "for index in range(numbers_image):\n",
    "    # Dữ liệu ảnh\n",
    "    value = data[index : index + 1].values\n",
    "    digit_pixels = value[0][1:]\n",
    "\n",
    "    # Tính size ảnh\n",
    "    image_size = int(math.sqrt(digit_pixels.shape[0]))\n",
    "    \n",
    "    # Chuyển vector sang matrix\n",
    "    matrix = digit_pixels.reshape((image_size, image_size))\n",
    "    #value[0][0]\n",
    "    # Plot dữ liệu matrix\n",
    "    plt.subplot(cells, cells, index + 1)\n",
    "    plt.imshow(matrix, cmap='Greys')\n",
    "    plt.xlabel(value[0][0])\n",
    "    plt.tick_params(axis='both', which='both', bottom=False, left=False, labelbottom=False, labelleft=False)\n",
    "\n",
    "# Hiển thị ảnh\n",
    "plt.subplots_adjust(hspace=1, wspace=1)\n",
    "plt.show()"
   ]
  },
  {
   "cell_type": "markdown",
   "metadata": {},
   "source": [
    "# II. Hồi quy Logistic"
   ]
  },
  {
   "cell_type": "markdown",
   "metadata": {},
   "source": [
    "## 1. Chuyển dữ liệu về các vector số thực"
   ]
  },
  {
   "cell_type": "code",
   "execution_count": 4,
   "metadata": {},
   "outputs": [],
   "source": [
    "X = data.values[:, 1:].astype(float)\n",
    "Y = data.values[:, [0]]"
   ]
  },
  {
   "cell_type": "markdown",
   "metadata": {},
   "source": [
    "## 2. Xử lí dữ liệu"
   ]
  },
  {
   "cell_type": "markdown",
   "metadata": {},
   "source": [
    "[Được đề nghị](https://scikit-learn.org/stable/modules/preprocessing.html#standardization-or-mean-removal-and-variance-scaling)"
   ]
  },
  {
   "cell_type": "code",
   "execution_count": 5,
   "metadata": {},
   "outputs": [],
   "source": [
    "def process_StandardScaler(X):\n",
    "    scaler = StandardScaler()\n",
    "    return scaler.fit_transform(X)\n",
    "\n",
    "# Những cách sau không giải quyết được\n",
    "#   - Không hội tụ quá số lần lặp\n",
    "#   - \n",
    "def process_MinMaxScaler(X):\n",
    "    return preprocessing.MinMaxScaler().fit_transform(X)\n",
    "\n"
   ]
  },
  {
   "cell_type": "code",
   "execution_count": 6,
   "metadata": {},
   "outputs": [],
   "source": [
    "X_train, X_test, Y_train, Y_test = train_test_split(X, Y, test_size=0.2, random_state=0)"
   ]
  },
  {
   "cell_type": "code",
   "execution_count": 7,
   "metadata": {},
   "outputs": [
    {
     "data": {
      "text/plain": [
       "((21600, 784), (21600, 1))"
      ]
     },
     "execution_count": 7,
     "metadata": {},
     "output_type": "execute_result"
    }
   ],
   "source": [
    "X_train = process_StandardScaler(X_train)\n",
    "X_train.shape, Y_train.shape"
   ]
  },
  {
   "cell_type": "markdown",
   "metadata": {},
   "source": [
    "## 3. Huấn luyện mô hình"
   ]
  },
  {
   "cell_type": "markdown",
   "metadata": {},
   "source": [
    "<i>(Lần đầu chạy sẽ lưu mô hình, những lần sau sẽ load mô hình thay vì train lại)</i>"
   ]
  },
  {
   "cell_type": "code",
   "execution_count": 8,
   "metadata": {},
   "outputs": [
    {
     "name": "stdout",
     "output_type": "stream",
     "text": [
      "Loaded model in:  DA2_Logistic_Model.pkl\n"
     ]
    }
   ],
   "source": [
    "# lambda = 1e3\n",
    "filename = \"DA2_Logistic_Model.pkl\"\n",
    "if not os.path.isfile(filename):\n",
    "    model = linear_model.LogisticRegression(C=0.01, multi_class='ovr', solver='liblinear')\n",
    "    model.fit(X_train, Y_train[:,0])\n",
    "    pickle.dump(model, open(filename, 'wb'))\n",
    "    print(\"Saved model as: \", filename)\n",
    "else:            \n",
    "    model = pickle.load(open(filename, 'rb'))\n",
    "    print(\"Loaded model in: \", filename)"
   ]
  },
  {
   "cell_type": "markdown",
   "metadata": {},
   "source": [
    "## 4. Đánh giá mô hình"
   ]
  },
  {
   "cell_type": "code",
   "execution_count": 9,
   "metadata": {},
   "outputs": [],
   "source": [
    "def model_validation(model, X_train, X_test, Y_train, Y_test):\n",
    "    in_sample_prediction = model.predict(X_train)\n",
    "    mse = mean_squared_error(Y_train, in_sample_prediction)\n",
    "    \n",
    "    print(\"In-sample match: \", model.score(X_train, Y_train)*100, \"%\")\n",
    "    print('---------------------------------------')\n",
    "    prediction = model.predict(X_test)\n",
    "    mse_out =  mean_squared_error(Y_test, prediction)\n",
    "    print(\"Out-sample match: \", model.score(X_test, Y_test)*100, \"%\")"
   ]
  },
  {
   "cell_type": "code",
   "execution_count": 10,
   "metadata": {
    "scrolled": false
   },
   "outputs": [
    {
     "name": "stdout",
     "output_type": "stream",
     "text": [
      "In-sample match:  98.99537037037037 %\n",
      "---------------------------------------\n",
      "Out-sample match:  98.42592592592592 %\n"
     ]
    }
   ],
   "source": [
    "X_test = process_StandardScaler(X_test)\n",
    "\n",
    "model_validation(model, X_train, X_test, Y_train, Y_test)"
   ]
  }
 ],
 "metadata": {
  "kernelspec": {
   "display_name": "Python 3",
   "language": "python",
   "name": "python3"
  },
  "language_info": {
   "codemirror_mode": {
    "name": "ipython",
    "version": 3
   },
   "file_extension": ".py",
   "mimetype": "text/x-python",
   "name": "python",
   "nbconvert_exporter": "python",
   "pygments_lexer": "ipython3",
   "version": "3.6.5"
  }
 },
 "nbformat": 4,
 "nbformat_minor": 4
}
