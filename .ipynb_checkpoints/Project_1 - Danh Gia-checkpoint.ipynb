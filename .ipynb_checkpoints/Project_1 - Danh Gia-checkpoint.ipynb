{
 "cells": [
  {
   "cell_type": "markdown",
   "metadata": {},
   "source": [
    "Lớp **Toán ứng dụng và thống kê - 17/11**  \n",
    "Học kì II, 2019 - 2020  "
   ]
  },
  {
   "cell_type": "markdown",
   "metadata": {},
   "source": [
    "<hr>"
   ]
  },
  {
   "cell_type": "markdown",
   "metadata": {},
   "source": [
    "<br>\n",
    "<center><b><font size=\"10\">ĐỒ ÁN 1</font></b></center>\n",
    "<br>"
   ]
  },
  {
   "cell_type": "markdown",
   "metadata": {},
   "source": [
    "<center>\n",
    "    <font size=\"4\"><b>Nhóm thực hiện:</b></font><br>\n",
    "    Trần Minh Trí - 1712834&emsp;Nguyễn Nhật Trường - 1712852<br>\n",
    "    Lê Trường Vĩ - 1712900&emsp;Nguyễn Hửu Trí - 1712832<br>\n",
    "</center>"
   ]
  },
  {
   "cell_type": "markdown",
   "metadata": {},
   "source": [
    "<hr>"
   ]
  },
  {
   "cell_type": "markdown",
   "metadata": {},
   "source": [
    "<br>\n",
    "<center><b><font size=\"6\">Đánh giá model đã chọn</font></b></center>\n",
    "<br>"
   ]
  },
  {
   "cell_type": "code",
   "execution_count": 1,
   "metadata": {},
   "outputs": [],
   "source": [
    "import pandas as pd\n",
    "import numpy as np \n",
    "from sklearn import datasets, linear_model, metrics \n",
    "from sklearn.model_selection import train_test_split\n",
    "import pickle\n",
    "from sklearn.pipeline import Pipeline\n",
    "from sklearn.compose import ColumnTransformer"
   ]
  },
  {
   "cell_type": "code",
   "execution_count": 2,
   "metadata": {},
   "outputs": [],
   "source": [
    "def read_data(X_path):\n",
    "    X = pd.read_csv(X_path, index_col='id')\n",
    "    return X"
   ]
  },
  {
   "cell_type": "code",
   "execution_count": 3,
   "metadata": {},
   "outputs": [],
   "source": [
    "def load_model(filename=None):\n",
    "    model = pickle.load(open(filename, 'rb'))\n",
    "    print(\"Loaded model in: \", filename)\n",
    "    return model"
   ]
  },
  {
   "cell_type": "code",
   "execution_count": 4,
   "metadata": {},
   "outputs": [],
   "source": [
    "def model_validation(model, X_test, Y_test):\n",
    "    prediction = model.predict(X_test)\n",
    "    mse_out = np.mean((Y_test.values - prediction)**2)\n",
    "    print(\"Match: \", model.score(X_test, Y_test)*100, \"%\")\n",
    "    print(\"mse: \", mse_out)\n",
    "    print(\"rmse: \",np.sqrt(mse_out))"
   ]
  },
  {
   "cell_type": "markdown",
   "metadata": {},
   "source": [
    "## Dữ liệu đầu vào\n",
    "### Đổi path sau đây để đọc file khác"
   ]
  },
  {
   "cell_type": "code",
   "execution_count": 5,
   "metadata": {},
   "outputs": [],
   "source": [
    "X_test_path = \"X_dummy.csv\"\n",
    "Y_test_path = \"Y_dummy.csv\"\n",
    "\n",
    "X = read_data(X_test_path)\n",
    "Y = read_data(Y_test_path)"
   ]
  },
  {
   "cell_type": "markdown",
   "metadata": {},
   "source": [
    "## Model 4 <a class=\"anchor\" id=\"model-4\"></a>"
   ]
  },
  {
   "cell_type": "code",
   "execution_count": 6,
   "metadata": {},
   "outputs": [],
   "source": [
    "def transfrom_data(X, pipeline):\n",
    "    X_ = X.copy()\n",
    "    X_['x0'] = 1\n",
    "    return pipeline.transform(X_)"
   ]
  },
  {
   "cell_type": "code",
   "execution_count": 7,
   "metadata": {},
   "outputs": [
    {
     "name": "stdout",
     "output_type": "stream",
     "text": [
      "Loaded pipeline\n"
     ]
    }
   ],
   "source": [
    "fname = \"pipeline.pkl\"\n",
    "full_pipeline = pickle.load(open(fname, 'rb'))\n",
    "print(\"Loaded pipeline\")"
   ]
  },
  {
   "cell_type": "code",
   "execution_count": 8,
   "metadata": {},
   "outputs": [
    {
     "data": {
      "text/plain": [
       "((6311, 113), (6311, 1))"
      ]
     },
     "execution_count": 8,
     "metadata": {},
     "output_type": "execute_result"
    }
   ],
   "source": [
    "X_test4 = transfrom_data(X, full_pipeline)\n",
    "X_test4.shape, Y.shape"
   ]
  },
  {
   "cell_type": "code",
   "execution_count": 9,
   "metadata": {},
   "outputs": [
    {
     "name": "stdout",
     "output_type": "stream",
     "text": [
      "Loaded model in:  DA1_Model4.pkl\n"
     ]
    }
   ],
   "source": [
    "regressor_4 = load_model(\"DA1_Model4.pkl\")"
   ]
  },
  {
   "cell_type": "code",
   "execution_count": 10,
   "metadata": {},
   "outputs": [
    {
     "data": {
      "text/plain": [
       "array([[13372.],\n",
       "       [ 3970.],\n",
       "       [15426.],\n",
       "       ...,\n",
       "       [ 7156.],\n",
       "       [12536.],\n",
       "       [ 7920.]])"
      ]
     },
     "execution_count": 10,
     "metadata": {},
     "output_type": "execute_result"
    }
   ],
   "source": [
    "Y_predict = regressor_4.predict(X_test4)\n",
    "Y_predict"
   ]
  },
  {
   "cell_type": "markdown",
   "metadata": {},
   "source": [
    "##### Kết quả đánh giá:"
   ]
  },
  {
   "cell_type": "code",
   "execution_count": 11,
   "metadata": {},
   "outputs": [
    {
     "name": "stdout",
     "output_type": "stream",
     "text": [
      "Match:  86.84541996857091 %\n",
      "mse:  4680024.044396862\n",
      "rmse:  2163.3363225344465\n"
     ]
    }
   ],
   "source": [
    "model_validation(regressor_4,  X_test4, Y)"
   ]
  },
  {
   "cell_type": "code",
   "execution_count": null,
   "metadata": {},
   "outputs": [],
   "source": []
  }
 ],
 "metadata": {
  "kernelspec": {
   "display_name": "Python 3",
   "language": "python",
   "name": "python3"
  },
  "language_info": {
   "codemirror_mode": {
    "name": "ipython",
    "version": 3
   },
   "file_extension": ".py",
   "mimetype": "text/x-python",
   "name": "python",
   "nbconvert_exporter": "python",
   "pygments_lexer": "ipython3",
   "version": "3.7.4"
  }
 },
 "nbformat": 4,
 "nbformat_minor": 2
}
