{
 "cells": [
  {
   "cell_type": "markdown",
   "metadata": {},
   "source": [
    "Lớp **Toán ứng dụng và thống kê - 17/11**  \n",
    "Học kì II, 2019 - 2020  "
   ]
  },
  {
   "cell_type": "markdown",
   "metadata": {},
   "source": [
    "<hr>"
   ]
  },
  {
   "cell_type": "markdown",
   "metadata": {},
   "source": [
    "<br>\n",
    "<center><b><font size=\"10\">ĐỒ ÁN 1</font></b></center>\n",
    "<br>"
   ]
  },
  {
   "cell_type": "markdown",
   "metadata": {},
   "source": [
    "<center>\n",
    "    <font size=\"4\"><b>Nhóm thực hiện:</b></font><br>\n",
    "    Trần Minh Trí - 1712834&emsp;Nguyễn Nhật Trường - 1712852<br>\n",
    "    Lê Trường Vĩ - 1712900&emsp;Nguyễn Hửu Trí - 1712832<br>\n",
    "</center>"
   ]
  },
  {
   "cell_type": "markdown",
   "metadata": {},
   "source": [
    "<hr>"
   ]
  },
  {
   "cell_type": "markdown",
   "metadata": {},
   "source": [
    "<br>\n",
    "<center><b><font size=\"6\">Đánh giá model đã chọn</font></b></center>\n",
    "<br>"
   ]
  },
  {
   "cell_type": "code",
   "execution_count": 1,
   "metadata": {},
   "outputs": [],
   "source": [
    "import pandas as pd\n",
    "import numpy as np \n",
    "from sklearn import datasets, linear_model, metrics \n",
    "from sklearn.model_selection import train_test_split\n",
    "import pickle\n",
    "import os.path\n",
    "\n",
    "from sklearn.pipeline import Pipeline\n",
    "from sklearn.impute import SimpleImputer\n",
    "from sklearn.preprocessing import StandardScaler\n",
    "from sklearn.preprocessing import PolynomialFeatures\n",
    "from sklearn.preprocessing import OrdinalEncoder\n",
    "from sklearn.preprocessing import OneHotEncoder\n",
    "from sklearn.compose import ColumnTransformer\n",
    "\n",
    "import csv\n",
    "from sklearn.preprocessing import LabelEncoder"
   ]
  },
  {
   "cell_type": "code",
   "execution_count": 6,
   "metadata": {},
   "outputs": [],
   "source": [
    "def read_data(X_path, Y_path):\n",
    "    X = pd.read_csv(X_path, index_col='id')\n",
    "    Y = pd.read_csv(Y_path, index_col='id')\n",
    "    \n",
    "    return X, Y"
   ]
  },
  {
   "cell_type": "code",
   "execution_count": 3,
   "metadata": {},
   "outputs": [],
   "source": [
    "def load_model(filename=None):\n",
    "    model = pickle.load(open(filename, 'rb'))\n",
    "    print(\"Loaded model in: \", filename)\n",
    "    return model"
   ]
  },
  {
   "cell_type": "code",
   "execution_count": 14,
   "metadata": {},
   "outputs": [],
   "source": [
    "def model_validation(model, X_test, Y_test):\n",
    "    prediction = model.predict(X_test)\n",
    "    mse_out = np.mean((Y_test.values - prediction)**2)\n",
    "    print(\"Match: \", model.score(X_test, Y_test)*100, \"%\")\n",
    "    print(\"mse: \", mse_out)\n",
    "    print(\"rmse: \",np.sqrt(mse_out))"
   ]
  },
  {
   "cell_type": "code",
   "execution_count": 7,
   "metadata": {},
   "outputs": [],
   "source": [
    "X_test_path = \"X_dummy.csv\"\n",
    "Y_test_path = \"Y_dummy.csv\"\n",
    "X, Y = read_data(X_test_path, Y_test_path)"
   ]
  },
  {
   "cell_type": "markdown",
   "metadata": {},
   "source": [
    "## Model 3 <a class=\"anchor\" id=\"model-3\"></a>"
   ]
  },
  {
   "cell_type": "code",
   "execution_count": 8,
   "metadata": {},
   "outputs": [],
   "source": [
    "def model_self_labeled_process(X, scale):\n",
    "    X_train = X.copy()\n",
    "    X_train.drop([\"photos\"], axis=1)\n",
    "    index = [i for i, row in X_train.iterrows() if row.isnull().any()]\n",
    "\n",
    "    X_train = X_train.dropna()\n",
    "    X_train['year'] -= min(X['year'])\n",
    "    \n",
    "    label_col = [\"manufacturer\", \"model\",\"transmission\",\"color\",\"engineFuel\",\"engineType\",\"bodyType\",\"drivetrain\"]\n",
    "    \n",
    "    for s in label_col:\n",
    "        d = scale[s]\n",
    "        for key in d.keys():\n",
    "            if key != \"Other\":\n",
    "                X_train.replace(key, d[key], inplace=True)\n",
    "        for u in X_train[s].unique():\n",
    "            try:\n",
    "                float(u)\n",
    "            except ValueError:\n",
    "                # print(\"Droping \", u)\n",
    "                # X_train.replace(u, d[\"Other\"], inplace=True) # Ket qua rat te!\n",
    "                idx = X_train[ X_train[s] == u ].index\n",
    "                X_train.drop(idx , inplace=True)\n",
    "                index.append(idx)\n",
    "        \n",
    "    X_train.replace(True, 1, inplace=True)\n",
    "    X_train.replace(False, 0, inplace=True)\n",
    "    X_train['x0'] = 1\n",
    "    \n",
    "    X_train = X_train.astype(float)\n",
    "    \n",
    "    return X_train, index"
   ]
  },
  {
   "cell_type": "code",
   "execution_count": 9,
   "metadata": {},
   "outputs": [
    {
     "name": "stdout",
     "output_type": "stream",
     "text": [
      "Loaded scale\n"
     ]
    }
   ],
   "source": [
    "fname = \"model_scaling.pkl\"\n",
    "scale = pickle.load(open(fname, 'rb'))\n",
    "print(\"Loaded scale\")"
   ]
  },
  {
   "cell_type": "code",
   "execution_count": 10,
   "metadata": {},
   "outputs": [
    {
     "data": {
      "text/plain": [
       "((6307, 23), (6307, 1))"
      ]
     },
     "execution_count": 10,
     "metadata": {},
     "output_type": "execute_result"
    }
   ],
   "source": [
    "X_test3, drop_idx = model_self_labeled_process(X, scale)\n",
    "Y_test3 = Y.drop(drop_idx)\n",
    "\n",
    "X_test3.shape, Y_test3.shape"
   ]
  },
  {
   "cell_type": "code",
   "execution_count": 11,
   "metadata": {},
   "outputs": [
    {
     "name": "stdout",
     "output_type": "stream",
     "text": [
      "Loaded model in:  DA1_Model3.pkl\n"
     ]
    }
   ],
   "source": [
    "regressor_3 = load_model(\"DA1_Model3.pkl\")"
   ]
  },
  {
   "cell_type": "markdown",
   "metadata": {},
   "source": [
    "##### Kết quả đánh giá:"
   ]
  },
  {
   "cell_type": "code",
   "execution_count": 15,
   "metadata": {},
   "outputs": [
    {
     "name": "stdout",
     "output_type": "stream",
     "text": [
      "Match:  78.21774665048886 %\n",
      "mse:  7744682.260909913\n",
      "rmse:  2782.926923386583\n"
     ]
    }
   ],
   "source": [
    "model_validation(regressor_3, X_test3, Y_test3)"
   ]
  },
  {
   "cell_type": "markdown",
   "metadata": {},
   "source": [
    "## Model 4 <a class=\"anchor\" id=\"model-4\"></a>"
   ]
  },
  {
   "cell_type": "code",
   "execution_count": 19,
   "metadata": {},
   "outputs": [],
   "source": [
    "def transfrom_data(X, pipeline):\n",
    "    X_ = X.copy()\n",
    "    X_['x0'] = 1\n",
    "    return pipeline.transform(X_)"
   ]
  },
  {
   "cell_type": "code",
   "execution_count": 20,
   "metadata": {},
   "outputs": [
    {
     "name": "stdout",
     "output_type": "stream",
     "text": [
      "Loaded pipeline\n"
     ]
    }
   ],
   "source": [
    "fname = \"pipeline.pkl\"\n",
    "full_pipeline = pickle.load(open(fname, 'rb'))\n",
    "print(\"Loaded pipeline\")"
   ]
  },
  {
   "cell_type": "code",
   "execution_count": 22,
   "metadata": {},
   "outputs": [
    {
     "data": {
      "text/plain": [
       "((6311, 113), (6311, 1))"
      ]
     },
     "execution_count": 22,
     "metadata": {},
     "output_type": "execute_result"
    }
   ],
   "source": [
    "X_test4 = transfrom_data(X, full_pipeline)\n",
    "X_test4.shape, Y.shape"
   ]
  },
  {
   "cell_type": "code",
   "execution_count": 23,
   "metadata": {},
   "outputs": [
    {
     "name": "stdout",
     "output_type": "stream",
     "text": [
      "Loaded model in:  DA1_Model4.pkl\n"
     ]
    }
   ],
   "source": [
    "regressor_4 = load_model(\"DA1_Model4.pkl\")"
   ]
  },
  {
   "cell_type": "markdown",
   "metadata": {},
   "source": [
    "##### Kết quả đánh giá:"
   ]
  },
  {
   "cell_type": "code",
   "execution_count": 24,
   "metadata": {},
   "outputs": [
    {
     "name": "stdout",
     "output_type": "stream",
     "text": [
      "Match:  87.22676796737578 %\n",
      "mse:  4544351.312966027\n",
      "rmse:  2131.7484169024324\n"
     ]
    }
   ],
   "source": [
    "model_validation(regressor_4,  X_test4, Y)"
   ]
  },
  {
   "cell_type": "markdown",
   "metadata": {},
   "source": [
    "## Model 5 <a class=\"anchor\" id=\"model-5\"></a>"
   ]
  },
  {
   "cell_type": "code",
   "execution_count": 25,
   "metadata": {},
   "outputs": [],
   "source": [
    "def read_csv(X_path, Y_path):\n",
    "    x= []\n",
    "    y= [] \n",
    "    with open(X_path,'rt') as f:\n",
    "        data1 = csv.reader(f)\n",
    "        for i in data1:\n",
    "            i.append('1')\n",
    "            x.append(i)\n",
    "    with open(Y_path,'rt') as g:\n",
    "        data2 = csv.reader(g)\n",
    "        for i in data2:\n",
    "            y.append(i)\n",
    "            \n",
    "    x=np.array(x)[1:,1:]                                         #Xóa dòng đầu cột đầu\n",
    "    y = np.array(y)[1:,1:].flatten().astype(np.float)            #Xóa dòng đầu cột đầu\n",
    "    return x, y"
   ]
  },
  {
   "cell_type": "code",
   "execution_count": 26,
   "metadata": {},
   "outputs": [],
   "source": [
    "X, Y = read_csv(X_test_path, Y_test_path)"
   ]
  },
  {
   "cell_type": "code",
   "execution_count": 27,
   "metadata": {},
   "outputs": [],
   "source": [
    "def model_validation2(model, X_test, Y_test):\n",
    "    prediction = model.predict(X_test)\n",
    "    mse_out = np.mean((Y_test - prediction)**2)\n",
    "    print(\"Out-sample match: \", model.score(X_test, Y_test)*100, \"%\")\n",
    "    print(\"Out-sample mse: \", mse_out)\n",
    "    print(\"Out-sample rmse: \",np.sqrt(mse_out))"
   ]
  },
  {
   "cell_type": "code",
   "execution_count": 28,
   "metadata": {},
   "outputs": [],
   "source": [
    "def process_data(X, label_encoder_list, onehot_encoder):\n",
    "    for i in list(range(0,22)):\n",
    "        X[:,i] = label_encoder_list[i].transform(X[:,i])\n",
    "        \n",
    "    X = onehot_encoder.transform(X)\n",
    "    \n",
    "    X = X.astype(np.int)\n",
    "    \n",
    "    return X"
   ]
  },
  {
   "cell_type": "code",
   "execution_count": 29,
   "metadata": {},
   "outputs": [
    {
     "name": "stdout",
     "output_type": "stream",
     "text": [
      "Loaded encoder\n"
     ]
    }
   ],
   "source": [
    "fname = \"encoder.pkl\"\n",
    "encoder = pickle.load(open(fname, 'rb'))\n",
    "print(\"Loaded encoder\")"
   ]
  },
  {
   "cell_type": "code",
   "execution_count": 30,
   "metadata": {},
   "outputs": [],
   "source": [
    "X_test5 = process_data(X, encoder[\"label_encoder_list\"], encoder[\"onehot_encoder\"])"
   ]
  },
  {
   "cell_type": "code",
   "execution_count": 34,
   "metadata": {},
   "outputs": [
    {
     "name": "stdout",
     "output_type": "stream",
     "text": [
      "Loaded model in:  DA1_Model5.pkl\n"
     ]
    }
   ],
   "source": [
    "regressor_5 = load_model(\"DA1_Model5.pkl\")"
   ]
  },
  {
   "cell_type": "markdown",
   "metadata": {},
   "source": [
    "##### Kết quả đánh giá:"
   ]
  },
  {
   "cell_type": "code",
   "execution_count": 38,
   "metadata": {},
   "outputs": [
    {
     "name": "stdout",
     "output_type": "stream",
     "text": [
      "Match:  90.73110596795786 %\n",
      "mse:  3297607.8925577975\n",
      "rmse:  1815.9316871947021\n"
     ]
    }
   ],
   "source": [
    "prediction = regressor_5.predict(X_test5)\n",
    "mse_out = np.mean((Y - prediction)**2)\n",
    "print(\"Match: \", regressor_5.score(X_test5, Y)*100, \"%\")\n",
    "print(\"mse: \", mse_out)\n",
    "print(\"rmse: \",np.sqrt(mse_out))"
   ]
  },
  {
   "cell_type": "code",
   "execution_count": null,
   "metadata": {},
   "outputs": [],
   "source": []
  }
 ],
 "metadata": {
  "kernelspec": {
   "display_name": "Python 3",
   "language": "python",
   "name": "python3"
  },
  "language_info": {
   "codemirror_mode": {
    "name": "ipython",
    "version": 3
   },
   "file_extension": ".py",
   "mimetype": "text/x-python",
   "name": "python",
   "nbconvert_exporter": "python",
   "pygments_lexer": "ipython3",
   "version": "3.7.4"
  }
 },
 "nbformat": 4,
 "nbformat_minor": 2
}
